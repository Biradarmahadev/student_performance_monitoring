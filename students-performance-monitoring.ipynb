{
 "cells": [
  {
   "cell_type": "code",
   "execution_count": null,
   "metadata": {
    "colab": {
     "base_uri": "https://localhost:8080/"
    },
    "id": "SAdRApa01W0I",
    "outputId": "d4edd29a-5028-48d1-98f3-e38a8907a5a1"
   },
   "outputs": [],
   "source": [
    "!pip install dataprofiler"
   ]
  },
  {
   "cell_type": "code",
   "execution_count": null,
   "metadata": {
    "id": "SadmMv11sRbu"
   },
   "outputs": [],
   "source": [
    "import numpy as np\n",
    "\n",
    "import pandas as pd\n",
    "\n",
    "import matplotlib.pyplot as plt\n",
    "\n",
    "import seaborn as sns\n",
    "\n",
    "\n",
    "\n",
    "import json\n",
    "\n",
    "from dataprofiler import Data, Profiler"
   ]
  },
  {
   "cell_type": "code",
   "execution_count": null,
   "metadata": {
    "colab": {
     "base_uri": "https://localhost:8080/",
     "height": 206
    },
    "id": "q57uWluSsvlE",
    "outputId": "1091e1e1-cb88-4fda-dae6-fc58088568b9"
   },
   "outputs": [
    {
     "data": {
      "text/html": [
       "<div>\n",
       "<style scoped>\n",
       "    .dataframe tbody tr th:only-of-type {\n",
       "        vertical-align: middle;\n",
       "    }\n",
       "\n",
       "    .dataframe tbody tr th {\n",
       "        vertical-align: top;\n",
       "    }\n",
       "\n",
       "    .dataframe thead th {\n",
       "        text-align: right;\n",
       "    }\n",
       "</style>\n",
       "<table border=\"1\" class=\"dataframe\">\n",
       "  <thead>\n",
       "    <tr style=\"text-align: right;\">\n",
       "      <th></th>\n",
       "      <th>gender</th>\n",
       "      <th>race/ethnicity</th>\n",
       "      <th>parental level of education</th>\n",
       "      <th>lunch</th>\n",
       "      <th>test preparation course</th>\n",
       "      <th>math score</th>\n",
       "      <th>reading score</th>\n",
       "      <th>writing score</th>\n",
       "    </tr>\n",
       "  </thead>\n",
       "  <tbody>\n",
       "    <tr>\n",
       "      <th>0</th>\n",
       "      <td>female</td>\n",
       "      <td>group B</td>\n",
       "      <td>bachelor's degree</td>\n",
       "      <td>standard</td>\n",
       "      <td>none</td>\n",
       "      <td>72</td>\n",
       "      <td>72</td>\n",
       "      <td>74</td>\n",
       "    </tr>\n",
       "    <tr>\n",
       "      <th>1</th>\n",
       "      <td>female</td>\n",
       "      <td>group C</td>\n",
       "      <td>some college</td>\n",
       "      <td>standard</td>\n",
       "      <td>completed</td>\n",
       "      <td>69</td>\n",
       "      <td>90</td>\n",
       "      <td>88</td>\n",
       "    </tr>\n",
       "    <tr>\n",
       "      <th>2</th>\n",
       "      <td>female</td>\n",
       "      <td>group B</td>\n",
       "      <td>master's degree</td>\n",
       "      <td>standard</td>\n",
       "      <td>none</td>\n",
       "      <td>90</td>\n",
       "      <td>95</td>\n",
       "      <td>93</td>\n",
       "    </tr>\n",
       "    <tr>\n",
       "      <th>3</th>\n",
       "      <td>male</td>\n",
       "      <td>group A</td>\n",
       "      <td>associate's degree</td>\n",
       "      <td>free/reduced</td>\n",
       "      <td>none</td>\n",
       "      <td>47</td>\n",
       "      <td>57</td>\n",
       "      <td>44</td>\n",
       "    </tr>\n",
       "    <tr>\n",
       "      <th>4</th>\n",
       "      <td>male</td>\n",
       "      <td>group C</td>\n",
       "      <td>some college</td>\n",
       "      <td>standard</td>\n",
       "      <td>none</td>\n",
       "      <td>76</td>\n",
       "      <td>78</td>\n",
       "      <td>75</td>\n",
       "    </tr>\n",
       "  </tbody>\n",
       "</table>\n",
       "</div>"
      ],
      "text/plain": [
       "   gender race/ethnicity parental level of education         lunch  \\\n",
       "0  female        group B           bachelor's degree      standard   \n",
       "1  female        group C                some college      standard   \n",
       "2  female        group B             master's degree      standard   \n",
       "3    male        group A          associate's degree  free/reduced   \n",
       "4    male        group C                some college      standard   \n",
       "\n",
       "  test preparation course  math score  reading score  writing score  \n",
       "0                    none          72             72             74  \n",
       "1               completed          69             90             88  \n",
       "2                    none          90             95             93  \n",
       "3                    none          47             57             44  \n",
       "4                    none          76             78             75  "
      ]
     },
     "execution_count": 3,
     "metadata": {},
     "output_type": "execute_result"
    }
   ],
   "source": [
    "df = pd.read_csv(\"Students_Performance_mv.csv\")\n",
    "\n",
    "df.head()"
   ]
  },
  {
   "cell_type": "markdown",
   "metadata": {
    "id": "Oi4QHsPsfskH"
   },
   "source": [
    "##**Phase0**"
   ]
  },
  {
   "cell_type": "code",
   "execution_count": null,
   "metadata": {
    "colab": {
     "base_uri": "https://localhost:8080/"
    },
    "id": "0X8ecQ73s2jC",
    "outputId": "c1de3df2-ef09-40c9-a716-26b156cfec51"
   },
   "outputs": [
    {
     "data": {
      "text/plain": [
       "gender                          0\n",
       "race/ethnicity                 11\n",
       "parental level of education    21\n",
       "lunch                          12\n",
       "test preparation course         4\n",
       "math score                      0\n",
       "reading score                   0\n",
       "writing score                   0\n",
       "dtype: int64"
      ]
     },
     "execution_count": 4,
     "metadata": {},
     "output_type": "execute_result"
    }
   ],
   "source": [
    "df.isna().sum()"
   ]
  },
  {
   "cell_type": "code",
   "execution_count": null,
   "metadata": {
    "colab": {
     "base_uri": "https://localhost:8080/",
     "height": 430
    },
    "id": "HWgjeJSntCNE",
    "outputId": "9fc0bf7c-60d3-444d-d38a-e62aeaf14ec4"
   },
   "outputs": [
    {
     "data": {
      "image/png": "[encoded data removed]",
      "text/plain": [
       "<Figure size 640x480 with 1 Axes>"
      ]
     },
     "metadata": {},
     "output_type": "display_data"
    }
   ],
   "source": [
    "sns.boxplot(data=df)\n",
    "\n",
    "plt.show()"
   ]
  },
  {
   "cell_type": "code",
   "execution_count": null,
   "metadata": {
    "colab": {
     "base_uri": "https://localhost:8080/"
    },
    "id": "Ur4Uu_bbtO1s",
    "outputId": "b927b686-083e-43d6-cd6e-a0200049f045"
   },
   "outputs": [
    {
     "data": {
      "text/plain": [
       "1000"
      ]
     },
     "execution_count": 6,
     "metadata": {},
     "output_type": "execute_result"
    }
   ],
   "source": [
    "len(df)"
   ]
  },
  {
   "cell_type": "code",
   "execution_count": null,
   "metadata": {
    "id": "bQ9375l0db-i"
   },
   "outputs": [],
   "source": [
    "df.iloc[101,:] = df.iloc[205,:]\n",
    "\n",
    "df.iloc[190,:] = df.iloc[1,:]\n",
    "\n",
    "df.iloc[138,:] = df.iloc[145,:]\n"
   ]
  },
  {
   "cell_type": "code",
   "execution_count": null,
   "metadata": {
    "colab": {
     "base_uri": "https://localhost:8080/"
    },
    "id": "jIro46Yae1Wc",
    "outputId": "3a1c6a06-f8e3-4744-dbeb-5bec08cdff81"
   },
   "outputs": [
    {
     "data": {
      "text/plain": [
       "3"
      ]
     },
     "execution_count": 8,
     "metadata": {},
     "output_type": "execute_result"
    }
   ],
   "source": [
    "df.duplicated().sum()"
   ]
  },
  {
   "cell_type": "markdown",
   "metadata": {
    "id": "6KYJb2vH3GR6"
   },
   "source": [
    "#Profiling column Gender\n"
   ]
  },
  {
   "cell_type": "code",
   "execution_count": null,
   "metadata": {
    "colab": {
     "base_uri": "https://localhost:8080/"
    },
    "id": "8AND-U-afm4N",
    "outputId": "07f857c4-d8df-4497-dcc8-ae51aedc2bdf"
   },
   "outputs": [
    {
     "data": {
      "text/plain": [
       "0"
      ]
     },
     "execution_count": 9,
     "metadata": {},
     "output_type": "execute_result"
    }
   ],
   "source": [
    "df['gender'].isna().sum()"
   ]
  },
  {
   "cell_type": "code",
   "execution_count": null,
   "metadata": {
    "colab": {
     "base_uri": "https://localhost:8080/",
     "height": 203
    },
    "id": "3HXNy3WTgxEg",
    "outputId": "03121c2e-5e40-4bd3-d87e-93f35ebe7ac5"
   },
   "outputs": [
    {
     "data": {
      "text/plain": [
       "pandas.core.series.Series"
      ]
     },
     "execution_count": 10,
     "metadata": {},
     "output_type": "execute_result"
    }
   ],
   "source": [
    "type(df['gender'])"
   ]
  },
  {
   "cell_type": "code",
   "execution_count": null,
   "metadata": {
    "colab": {
     "base_uri": "https://localhost:8080/"
    },
    "id": "NaJKbdrVg7TX",
    "outputId": "01c72853-10e5-472f-cc66-1520c94414c2"
   },
   "outputs": [
    {
     "data": {
      "text/plain": [
       "gender\n",
       "female    518\n",
       "male      482\n",
       "Name: count, dtype: int64"
      ]
     },
     "execution_count": 11,
     "metadata": {},
     "output_type": "execute_result"
    }
   ],
   "source": [
    "df['gender'].value_counts()"
   ]
  },
  {
   "cell_type": "code",
   "execution_count": null,
   "metadata": {
    "colab": {
     "base_uri": "https://localhost:8080/"
    },
    "id": "B_geE1yYlOtI",
    "outputId": "ad4f738e-fee1-4e3c-acb2-f61a102b1bce"
   },
   "outputs": [
    {
     "data": {
      "text/plain": [
       "count       1000\n",
       "unique         2\n",
       "top       female\n",
       "freq         518\n",
       "Name: gender, dtype: object"
      ]
     },
     "execution_count": 12,
     "metadata": {},
     "output_type": "execute_result"
    }
   ],
   "source": [
    "df['gender'].describe()"
   ]
  },
  {
   "cell_type": "markdown",
   "metadata": {
    "id": "JmcVwVhH3B6v"
   },
   "source": [
    "#Profiling column race/ethnicity\n"
   ]
  },
  {
   "cell_type": "code",
   "execution_count": null,
   "metadata": {
    "colab": {
     "base_uri": "https://localhost:8080/"
    },
    "id": "v-N21BThhFYX",
    "outputId": "39c6e252-b89d-42dd-d8f7-c9b78f80be5c"
   },
   "outputs": [
    {
     "data": {
      "text/plain": [
       "11"
      ]
     },
     "execution_count": 13,
     "metadata": {},
     "output_type": "execute_result"
    }
   ],
   "source": [
    "df['race/ethnicity'].isna().sum()"
   ]
  },
  {
   "cell_type": "code",
   "execution_count": null,
   "metadata": {
    "colab": {
     "base_uri": "https://localhost:8080/"
    },
    "id": "6nciLdWPiyib",
    "outputId": "99372630-ea0b-48e6-edff-f4fd5232f77a"
   },
   "outputs": [
    {
     "data": {
      "text/plain": [
       "race/ethnicity\n",
       "group C    316\n",
       "group D    261\n",
       "group B    187\n",
       "group E    137\n",
       "group A     88\n",
       "Name: count, dtype: int64"
      ]
     },
     "execution_count": 14,
     "metadata": {},
     "output_type": "execute_result"
    }
   ],
   "source": [
    "df[\"race/ethnicity\"].value_counts()"
   ]
  },
  {
   "cell_type": "code",
   "execution_count": null,
   "metadata": {
    "colab": {
     "base_uri": "https://localhost:8080/"
    },
    "id": "wyVMfvjDlz9V",
    "outputId": "eef3be58-4957-4ab2-84ff-e12408f6b100"
   },
   "outputs": [
    {
     "data": {
      "text/plain": [
       "count         989\n",
       "unique          5\n",
       "top       group C\n",
       "freq          316\n",
       "Name: race/ethnicity, dtype: object"
      ]
     },
     "execution_count": 15,
     "metadata": {},
     "output_type": "execute_result"
    }
   ],
   "source": [
    "df[\"race/ethnicity\"].describe()"
   ]
  },
  {
   "cell_type": "markdown",
   "metadata": {
    "id": "JLBgWO-w27kE"
   },
   "source": [
    "#Profiling column lunch\n"
   ]
  },
  {
   "cell_type": "code",
   "execution_count": null,
   "metadata": {
    "colab": {
     "base_uri": "https://localhost:8080/"
    },
    "id": "fdUIXw5Ji5bP",
    "outputId": "591960ca-1cc8-44f0-9e68-7069c6281355"
   },
   "outputs": [
    {
     "data": {
      "text/plain": [
       "12"
      ]
     },
     "execution_count": 16,
     "metadata": {},
     "output_type": "execute_result"
    }
   ],
   "source": [
    "df['lunch'].isna().sum()"
   ]
  },
  {
   "cell_type": "code",
   "execution_count": null,
   "metadata": {
    "colab": {
     "base_uri": "https://localhost:8080/"
    },
    "id": "eoz007I6kREL",
    "outputId": "90b6c941-e99a-4d85-e885-76d574aed1c2"
   },
   "outputs": [
    {
     "data": {
      "text/plain": [
       "lunch\n",
       "standard        636\n",
       "free/reduced    352\n",
       "Name: count, dtype: int64"
      ]
     },
     "execution_count": 17,
     "metadata": {},
     "output_type": "execute_result"
    }
   ],
   "source": [
    "df['lunch'].value_counts()"
   ]
  },
  {
   "cell_type": "code",
   "execution_count": null,
   "metadata": {
    "colab": {
     "base_uri": "https://localhost:8080/"
    },
    "id": "CAbd5j5JkWoA",
    "outputId": "ecc9567a-b64e-4f0e-ccc5-e188a6c79fbc"
   },
   "outputs": [
    {
     "data": {
      "text/plain": [
       "count          988\n",
       "unique           2\n",
       "top       standard\n",
       "freq           636\n",
       "Name: lunch, dtype: object"
      ]
     },
     "execution_count": 18,
     "metadata": {},
     "output_type": "execute_result"
    }
   ],
   "source": [
    "df['lunch'].describe()"
   ]
  },
  {
   "cell_type": "markdown",
   "metadata": {
    "id": "Zw4DB_AA20Z7"
   },
   "source": [
    "#Profiling column test preparation course\n"
   ]
  },
  {
   "cell_type": "code",
   "execution_count": null,
   "metadata": {
    "colab": {
     "base_uri": "https://localhost:8080/"
    },
    "id": "OGpeTFaWmKv9",
    "outputId": "364aaf90-8c21-4088-a8ad-a673d211f08a"
   },
   "outputs": [
    {
     "data": {
      "text/plain": [
       "4"
      ]
     },
     "execution_count": 19,
     "metadata": {},
     "output_type": "execute_result"
    }
   ],
   "source": [
    "df['test preparation course'].isna().sum()"
   ]
  },
  {
   "cell_type": "code",
   "execution_count": null,
   "metadata": {
    "colab": {
     "base_uri": "https://localhost:8080/"
    },
    "id": "Rza57Ys_mm_i",
    "outputId": "059625ab-e3e6-46ab-8f32-b31d0665d47e"
   },
   "outputs": [
    {
     "data": {
      "text/plain": [
       "count      996\n",
       "unique       2\n",
       "top       none\n",
       "freq       638\n",
       "Name: test preparation course, dtype: object"
      ]
     },
     "execution_count": 20,
     "metadata": {},
     "output_type": "execute_result"
    }
   ],
   "source": [
    "df['test preparation course'].describe()"
   ]
  },
  {
   "cell_type": "code",
   "execution_count": null,
   "metadata": {
    "colab": {
     "base_uri": "https://localhost:8080/"
    },
    "id": "pp5MYWUHmqn7",
    "outputId": "40869654-8034-4b97-e10f-11c8d27e1008"
   },
   "outputs": [
    {
     "data": {
      "text/plain": [
       "test preparation course\n",
       "none         638\n",
       "completed    358\n",
       "Name: count, dtype: int64"
      ]
     },
     "execution_count": 21,
     "metadata": {},
     "output_type": "execute_result"
    }
   ],
   "source": [
    "df['test preparation course'].value_counts()"
   ]
  },
  {
   "cell_type": "markdown",
   "metadata": {
    "id": "AmWRksK_2tOk"
   },
   "source": [
    "#Profiling column math score\n"
   ]
  },
  {
   "cell_type": "code",
   "execution_count": null,
   "metadata": {
    "colab": {
     "base_uri": "https://localhost:8080/"
    },
    "id": "Zeghi1Bpmtnn",
    "outputId": "b0cb5fa8-3f67-4dac-e44a-819eba351824"
   },
   "outputs": [
    {
     "data": {
      "text/plain": [
       "0"
      ]
     },
     "execution_count": 22,
     "metadata": {},
     "output_type": "execute_result"
    }
   ],
   "source": [
    "df['math score'].isna().sum()"
   ]
  },
  {
   "cell_type": "code",
   "execution_count": null,
   "metadata": {
    "colab": {
     "base_uri": "https://localhost:8080/"
    },
    "id": "6cQLSBz5nk0v",
    "outputId": "b96e3aa1-20a1-4035-f5ed-d2ea6de0b692"
   },
   "outputs": [
    {
     "data": {
      "text/plain": [
       "count    1000.000000\n",
       "mean       66.061000\n",
       "std        15.227645\n",
       "min         0.000000\n",
       "25%        57.000000\n",
       "50%        66.000000\n",
       "75%        77.000000\n",
       "max       100.000000\n",
       "Name: math score, dtype: float64"
      ]
     },
     "execution_count": 23,
     "metadata": {},
     "output_type": "execute_result"
    }
   ],
   "source": [
    "df['math score'].describe()"
   ]
  },
  {
   "cell_type": "markdown",
   "metadata": {
    "id": "Gj0WZmvZ2nyI"
   },
   "source": [
    "#Profiling column reading score"
   ]
  },
  {
   "cell_type": "code",
   "execution_count": null,
   "metadata": {
    "colab": {
     "base_uri": "https://localhost:8080/"
    },
    "id": "YkXrBVeInooQ",
    "outputId": "67761063-9564-4c89-a426-ae4f5cacbd7a"
   },
   "outputs": [
    {
     "data": {
      "text/plain": [
       "0"
      ]
     },
     "execution_count": 24,
     "metadata": {},
     "output_type": "execute_result"
    }
   ],
   "source": [
    "df['reading score'].isna().sum()"
   ]
  },
  {
   "cell_type": "code",
   "execution_count": null,
   "metadata": {
    "colab": {
     "base_uri": "https://localhost:8080/"
    },
    "id": "Fwcoy14novOn",
    "outputId": "a2154966-9c58-4549-db76-c1d56e8a8b77"
   },
   "outputs": [
    {
     "data": {
      "text/plain": [
       "count    1000.000000\n",
       "mean       69.164000\n",
       "std        14.644575\n",
       "min        17.000000\n",
       "25%        59.000000\n",
       "50%        70.000000\n",
       "75%        79.250000\n",
       "max       100.000000\n",
       "Name: reading score, dtype: float64"
      ]
     },
     "execution_count": 25,
     "metadata": {},
     "output_type": "execute_result"
    }
   ],
   "source": [
    "df['reading score'].describe()"
   ]
  },
  {
   "cell_type": "markdown",
   "metadata": {
    "id": "NskmKh852f-V"
   },
   "source": [
    "#Profiling column writing score"
   ]
  },
  {
   "cell_type": "code",
   "execution_count": null,
   "metadata": {
    "colab": {
     "base_uri": "https://localhost:8080/"
    },
    "id": "bqG_wObFoyhu",
    "outputId": "e32a48a5-d670-4ee0-ba56-ae00e6449754"
   },
   "outputs": [
    {
     "data": {
      "text/plain": [
       "0"
      ]
     },
     "execution_count": 26,
     "metadata": {},
     "output_type": "execute_result"
    }
   ],
   "source": [
    "df['writing score'].isna().sum()"
   ]
  },
  {
   "cell_type": "code",
   "execution_count": null,
   "metadata": {
    "colab": {
     "base_uri": "https://localhost:8080/"
    },
    "id": "FaPxXntrpTZr",
    "outputId": "05af255d-6e0b-4e91-8d71-420c899067ac"
   },
   "outputs": [
    {
     "data": {
      "text/plain": [
       "count    1000.000000\n",
       "mean       68.043000\n",
       "std        15.251156\n",
       "min        10.000000\n",
       "25%        57.000000\n",
       "50%        69.000000\n",
       "75%        79.000000\n",
       "max       100.000000\n",
       "Name: writing score, dtype: float64"
      ]
     },
     "execution_count": 27,
     "metadata": {},
     "output_type": "execute_result"
    }
   ],
   "source": [
    "df['writing score'].describe()"
   ]
  },
  {
   "cell_type": "code",
   "execution_count": null,
   "metadata": {
    "colab": {
     "base_uri": "https://localhost:8080/"
    },
    "id": "gyiQOQSVpWKW",
    "outputId": "bb581b1c-64c3-4688-ec6f-6d8672340ead",
    "scrolled": true
   },
   "outputs": [
    {
     "name": "stdout",
     "output_type": "stream",
     "text": [
      "INFO:DataProfiler.profilers.profile_builder: Finding the Null values in the columns... \n"
     ]
    },
    {
     "name": "stderr",
     "output_type": "stream",
     "text": [
      "F:\\Anaconda\\Lib\\site-packages\\dataprofiler\\profilers\\profile_builder.py:757: RuntimeWarning: \n",
      "\n",
      "!!! WARNING Partial Profiler Failure !!!\n",
      "\n",
      "Profiling Type: data_labeler\n",
      "Exception: ModuleNotFoundError\n",
      "Message: No module named 'tensorflow'\n",
      "\n",
      "For labeler errors, try installing the extra ml requirements via:\n",
      "\n",
      "$ pip install dataprofiler[ml] --user\n",
      "\n",
      "\n",
      "  profiler_utils.warn_on_profile(\"data_labeler\", e)\n",
      "100%|██████████| 8/8 [00:00<00:00, 512.09it/s]"
     ]
    },
    {
     "name": "stdout",
     "output_type": "stream",
     "text": [
      "INFO:DataProfiler.profilers.profile_builder: Calculating the statistics... \n"
     ]
    },
    {
     "name": "stderr",
     "output_type": "stream",
     "text": [
      "\n",
      "100%|██████████| 8/8 [00:00<00:00, 26.82it/s]"
     ]
    },
    {
     "name": "stdout",
     "output_type": "stream",
     "text": [
      "{\n",
      "    \"global_stats\": {\n",
      "        \"samples_used\": 1000,\n",
      "        \"column_count\": 8,\n",
      "        \"row_count\": 1000,\n",
      "        \"row_has_null_ratio\": 0.658,\n",
      "        \"row_is_null_ratio\": 0.0,\n",
      "        \"unique_row_ratio\": 0.997,\n",
      "        \"duplicate_row_count\": 3,\n",
      "        \"file_type\": \"<class 'pandas.core.frame.DataFrame'>\",\n",
      "        \"encoding\": null,\n",
      "        \"correlation_matrix\": null,\n",
      "        \"chi2_matrix\": \"[[1., 0., 0., 0., 0., 0., 0., 0.], ... , [0.       , 0.       , 0.       , 0.       , 0.       , 0.3636629,\\n  0.7693701, 1.       ]]\",\n",
      "        \"profile_schema\": {\n",
      "            \"gender\": [\n",
      "                0\n",
      "            ],\n",
      "            \"race/ethnicity\": [\n",
      "                1\n",
      "            ],\n",
      "            \"parental level of education\": [\n",
      "                2\n",
      "            ],\n",
      "            \"lunch\": [\n",
      "                3\n",
      "            ],\n",
      "            \"test preparation course\": [\n",
      "                4\n",
      "            ],\n",
      "            \"math score\": [\n",
      "                5\n",
      "            ],\n",
      "            \"reading score\": [\n",
      "                6\n",
      "            ],\n",
      "            \"writing score\": [\n",
      "                7\n",
      "            ]\n",
      "        },\n",
      "        \"times\": {\n",
      "            \"row_stats\": 0.0156\n",
      "        }\n",
      "    },\n",
      "    \"data_stats\": [\n",
      "        {\n",
      "            \"column_name\": \"gender\",\n",
      "            \"data_type\": \"string\",\n",
      "            \"categorical\": true,\n",
      "            \"order\": \"random\",\n",
      "            \"samples\": \"['male', 'female', 'male', 'female', 'male']\",\n",
      "            \"statistics\": {\n",
      "                \"min\": 4.0,\n",
      "                \"max\": 6.0,\n",
      "                \"mode\": \"[5.999]\",\n",
      "                \"median\": 5.9981,\n",
      "                \"sum\": 5036.0,\n",
      "                \"mean\": 5.036,\n",
      "                \"variance\": 0.9997,\n",
      "                \"stddev\": 0.9999,\n",
      "                \"skewness\": -0.0722,\n",
      "                \"kurtosis\": -1.9988,\n",
      "                \"histogram\": {\n",
      "                    \"bin_edges\": \"[4.        , 4.18181818, ... , 5.81818182, 6.        ]\",\n",
      "                    \"bin_counts\": \"[482.,   0.,   0.,   0., ... ,   0.,   0.,   0., 518.]\"\n",
      "                },\n",
      "                \"quantiles\": {\n",
      "                    \"0\": 4.001,\n",
      "                    \"1\": 5.9981,\n",
      "                    \"2\": 5.999\n",
      "                },\n",
      "                \"median_abs_deviation\": 0.0019,\n",
      "                \"times\": {\n",
      "                    \"vocab\": 0.0,\n",
      "                    \"min\": 0.0,\n",
      "                    \"max\": 0.0,\n",
      "                    \"sum\": 0.0,\n",
      "                    \"variance\": 0.0,\n",
      "                    \"skewness\": 0.0,\n",
      "                    \"kurtosis\": 0.0156,\n",
      "                    \"histogram_and_quantiles\": 0.0\n",
      "                },\n",
      "                \"vocab\": \"['a', 'm', 'e', 'l', 'f']\",\n",
      "                \"unique_count\": 2,\n",
      "                \"unique_ratio\": 0.002,\n",
      "                \"categories\": \"['female', 'male']\",\n",
      "                \"gini_impurity\": 0.4994,\n",
      "                \"unalikeability\": 0.4999,\n",
      "                \"categorical_count\": {\n",
      "                    \"female\": 518,\n",
      "                    \"male\": 482\n",
      "                },\n",
      "                \"sample_size\": 1000,\n",
      "                \"null_count\": 0,\n",
      "                \"null_types\": [],\n",
      "                \"null_types_index\": {},\n",
      "                \"data_type_representation\": {\n",
      "                    \"datetime\": 0.0,\n",
      "                    \"int\": 0.0,\n",
      "                    \"float\": 0.0,\n",
      "                    \"string\": 1.0\n",
      "                }\n",
      "            }\n",
      "        },\n",
      "        {\n",
      "            \"column_name\": \"race/ethnicity\",\n",
      "            \"data_type\": \"string\",\n",
      "            \"categorical\": true,\n",
      "            \"order\": \"random\",\n",
      "            \"samples\": \"['group B', 'group C', 'group C', 'group D', 'group D']\",\n",
      "            \"statistics\": {\n",
      "                \"min\": 7.0,\n",
      "                \"max\": 7.0,\n",
      "                \"mode\": \"[7.]\",\n",
      "                \"median\": 7.0,\n",
      "                \"sum\": 6923.0,\n",
      "                \"mean\": 7.0,\n",
      "                \"variance\": 0.0,\n",
      "                \"stddev\": 0.0,\n",
      "                \"skewness\": 0.0,\n",
      "                \"kurtosis\": -3.0091,\n",
      "                \"histogram\": {\n",
      "                    \"bin_counts\": \"[989]\",\n",
      "                    \"bin_edges\": \"[7., 7.]\"\n",
      "                },\n",
      "                \"quantiles\": {\n",
      "                    \"0\": 7.0,\n",
      "                    \"1\": 7.0,\n",
      "                    \"2\": 7.0\n",
      "                },\n",
      "                \"median_abs_deviation\": 0.0,\n",
      "                \"times\": {\n",
      "                    \"vocab\": 0.0,\n",
      "                    \"min\": 0.0,\n",
      "                    \"max\": 0.0,\n",
      "                    \"sum\": 0.0,\n",
      "                    \"variance\": 0.0,\n",
      "                    \"skewness\": 0.0157,\n",
      "                    \"kurtosis\": 0.0,\n",
      "                    \"histogram_and_quantiles\": 0.0\n",
      "                },\n",
      "                \"vocab\": \"['A', 'u', 'B', 'D', 'C', ... , 'r', 'o', ' ', 'p', 'g']\",\n",
      "                \"unique_count\": 5,\n",
      "                \"unique_ratio\": 0.0051,\n",
      "                \"categories\": \"['group C', 'group D', 'group B', 'group E', 'group A']\",\n",
      "                \"gini_impurity\": 0.7654,\n",
      "                \"unalikeability\": 0.7662,\n",
      "                \"categorical_count\": {\n",
      "                    \"group C\": 316,\n",
      "                    \"group D\": 261,\n",
      "                    \"group B\": 187,\n",
      "                    \"group E\": 137,\n",
      "                    \"group A\": 88\n",
      "                },\n",
      "                \"sample_size\": 1000,\n",
      "                \"null_count\": 11,\n",
      "                \"null_types\": \"['nan']\",\n",
      "                \"null_types_index\": {\n",
      "                    \"nan\": \"[ 21,  44,  94, 108, 673, ... , 734, 799, 800, 811, 984]\"\n",
      "                },\n",
      "                \"data_type_representation\": {\n",
      "                    \"datetime\": 0.0,\n",
      "                    \"int\": 0.0,\n",
      "                    \"float\": 0.0,\n",
      "                    \"string\": 1.0\n",
      "                }\n",
      "            }\n",
      "        },\n",
      "        {\n",
      "            \"column_name\": \"parental level of education\",\n",
      "            \"data_type\": \"string\",\n",
      "            \"categorical\": true,\n",
      "            \"order\": \"random\",\n",
      "            \"samples\": \"[\\\"associate's degree\\\", 'some high school', 'high school',\\n \\\"associate's degree\\\", \\\"associate's degree\\\"]\",\n",
      "            \"statistics\": {\n",
      "                \"min\": 11.0,\n",
      "                \"max\": 18.0,\n",
      "                \"mode\": \"[11.9975]\",\n",
      "                \"median\": 15.9987,\n",
      "                \"sum\": 14309.0,\n",
      "                \"mean\": 14.6159,\n",
      "                \"variance\": 7.6806,\n",
      "                \"stddev\": 2.7714,\n",
      "                \"skewness\": -0.1265,\n",
      "                \"kurtosis\": -1.6818,\n",
      "                \"histogram\": {\n",
      "                    \"bin_edges\": \"[11.        , 11.63636364, ... , 17.36363636, 18.        ]\",\n",
      "                    \"bin_counts\": \"[193., 220.,   0.,   0., ... , 175.,   0., 115., 217.]\"\n",
      "                },\n",
      "                \"quantiles\": {\n",
      "                    \"0\": 11.9956,\n",
      "                    \"1\": 15.9987,\n",
      "                    \"2\": 17.0043\n",
      "                },\n",
      "                \"median_abs_deviation\": 1.9988,\n",
      "                \"times\": {\n",
      "                    \"vocab\": 0.0,\n",
      "                    \"min\": 0.0,\n",
      "                    \"max\": 0.0,\n",
      "                    \"sum\": 0.0,\n",
      "                    \"variance\": 0.0,\n",
      "                    \"skewness\": 0.0,\n",
      "                    \"kurtosis\": 0.0,\n",
      "                    \"histogram_and_quantiles\": 0.0\n",
      "                },\n",
      "                \"vocab\": \"['d', 'c', 'h', 'r', 'b', ... , 'i', \\\"'\\\", 't', 'l', 'g']\",\n",
      "                \"unique_count\": 6,\n",
      "                \"unique_ratio\": 0.0061,\n",
      "                \"categories\": \"['some college', \\\"associate's degree\\\", ... , \\\"bachelor's degree\\\", \\\"master's degree\\\"]\",\n",
      "                \"gini_impurity\": 0.8121,\n",
      "                \"unalikeability\": 0.813,\n",
      "                \"categorical_count\": {\n",
      "                    \"some college\": 220,\n",
      "                    \"associate's degree\": 217,\n",
      "                    \"high school\": 193,\n",
      "                    \"some high school\": 175,\n",
      "                    \"bachelor's degree\": 115,\n",
      "                    \"master's degree\": 59\n",
      "                },\n",
      "                \"sample_size\": 1000,\n",
      "                \"null_count\": 21,\n",
      "                \"null_types\": \"['nan']\",\n",
      "                \"null_types_index\": {\n",
      "                    \"nan\": \"[ 58,  77,  94, 390, 413, ... , 707, 755, 756, 772, 811]\"\n",
      "                },\n",
      "                \"data_type_representation\": {\n",
      "                    \"datetime\": 0.0,\n",
      "                    \"int\": 0.0,\n",
      "                    \"float\": 0.0,\n",
      "                    \"string\": 1.0\n",
      "                }\n",
      "            }\n",
      "        },\n",
      "        {\n",
      "            \"column_name\": \"lunch\",\n",
      "            \"data_type\": \"string\",\n",
      "            \"categorical\": true,\n",
      "            \"order\": \"random\",\n",
      "            \"samples\": \"['standard', 'free/reduced', 'standard', 'standard', 'standard']\",\n",
      "            \"statistics\": {\n",
      "                \"min\": 8.0,\n",
      "                \"max\": 12.0,\n",
      "                \"mode\": \"[8.002]\",\n",
      "                \"median\": 8.0031,\n",
      "                \"sum\": 9312.0,\n",
      "                \"mean\": 9.4251,\n",
      "                \"variance\": 3.6732,\n",
      "                \"stddev\": 1.9166,\n",
      "                \"skewness\": 0.6011,\n",
      "                \"kurtosis\": -1.642,\n",
      "                \"histogram\": {\n",
      "                    \"bin_edges\": \"[8.        , 8.36363636, ... , 11.63636364, 12.        ]\",\n",
      "                    \"bin_counts\": \"[636.,   0.,   0.,   0., ... ,   0.,   0.,   0., 352.]\"\n",
      "                },\n",
      "                \"quantiles\": {\n",
      "                    \"0\": 8.0016,\n",
      "                    \"1\": 8.0031,\n",
      "                    \"2\": 11.9972\n",
      "                },\n",
      "                \"median_abs_deviation\": 0.0,\n",
      "                \"times\": {\n",
      "                    \"vocab\": 0.0,\n",
      "                    \"min\": 0.0,\n",
      "                    \"max\": 0.0,\n",
      "                    \"sum\": 0.0,\n",
      "                    \"variance\": 0.0,\n",
      "                    \"skewness\": 0.0,\n",
      "                    \"kurtosis\": 0.0,\n",
      "                    \"histogram_and_quantiles\": 0.0\n",
      "                },\n",
      "                \"vocab\": \"['a', 'd', 'u', 'c', 't', ... , 'n', 'f', 'r', 's', '/']\",\n",
      "                \"unique_count\": 2,\n",
      "                \"unique_ratio\": 0.002,\n",
      "                \"categories\": \"['standard', 'free/reduced']\",\n",
      "                \"gini_impurity\": 0.4587,\n",
      "                \"unalikeability\": 0.4592,\n",
      "                \"categorical_count\": {\n",
      "                    \"standard\": 636,\n",
      "                    \"free/reduced\": 352\n",
      "                },\n",
      "                \"sample_size\": 1000,\n",
      "                \"null_count\": 12,\n",
      "                \"null_types\": \"['nan']\",\n",
      "                \"null_types_index\": {\n",
      "                    \"nan\": \"[ 77,  97, 135, 170, 199, ... , 323, 390, 862, 891, 984]\"\n",
      "                },\n",
      "                \"data_type_representation\": {\n",
      "                    \"datetime\": 0.0,\n",
      "                    \"int\": 0.0,\n",
      "                    \"float\": 0.0,\n",
      "                    \"string\": 1.0\n",
      "                }\n",
      "            }\n",
      "        },\n",
      "        {\n",
      "            \"column_name\": \"test preparation course\",\n",
      "            \"data_type\": \"string\",\n",
      "            \"categorical\": true,\n",
      "            \"order\": \"constant value\",\n",
      "            \"samples\": \"['completed', 'completed', 'completed', 'completed', 'completed']\",\n",
      "            \"statistics\": {\n",
      "                \"min\": 9.0,\n",
      "                \"max\": 9.0,\n",
      "                \"mode\": \"[9.]\",\n",
      "                \"median\": 9.0,\n",
      "                \"sum\": 3222.0,\n",
      "                \"mean\": 9.0,\n",
      "                \"variance\": 0.0,\n",
      "                \"stddev\": 0.0,\n",
      "                \"skewness\": 0.0,\n",
      "                \"kurtosis\": -3.0254,\n",
      "                \"histogram\": {\n",
      "                    \"bin_counts\": \"[358]\",\n",
      "                    \"bin_edges\": \"[9., 9.]\"\n",
      "                },\n",
      "                \"quantiles\": {\n",
      "                    \"0\": 9.0,\n",
      "                    \"1\": 9.0,\n",
      "                    \"2\": 9.0\n",
      "                },\n",
      "                \"median_abs_deviation\": 0.0,\n",
      "                \"times\": {\n",
      "                    \"vocab\": 0.0,\n",
      "                    \"min\": 0.0,\n",
      "                    \"max\": 0.0,\n",
      "                    \"sum\": 0.0,\n",
      "                    \"variance\": 0.0,\n",
      "                    \"skewness\": 0.0157,\n",
      "                    \"kurtosis\": 0.0,\n",
      "                    \"histogram_and_quantiles\": 0.0\n",
      "                },\n",
      "                \"vocab\": \"['d', 'c', 't', 'e', 'l', 'o', 'p', 'm']\",\n",
      "                \"unique_count\": 1,\n",
      "                \"unique_ratio\": 0.0028,\n",
      "                \"categories\": \"['completed']\",\n",
      "                \"gini_impurity\": 0.0,\n",
      "                \"unalikeability\": 0.0,\n",
      "                \"categorical_count\": {\n",
      "                    \"completed\": 358\n",
      "                },\n",
      "                \"sample_size\": 1000,\n",
      "                \"null_count\": 642,\n",
      "                \"null_types\": \"['nan', 'none']\",\n",
      "                \"null_types_index\": {\n",
      "                    \"none\": \"[0, 2, 3, 4, 5, 7, ... , 988, 992, 993, 994, 996, 999]\",\n",
      "                    \"nan\": \"[909, 942, 973, 984]\"\n",
      "                },\n",
      "                \"data_type_representation\": {\n",
      "                    \"datetime\": 0.0,\n",
      "                    \"int\": 0.0,\n",
      "                    \"float\": 0.0,\n",
      "                    \"string\": 1.0\n",
      "                }\n",
      "            }\n",
      "        },\n",
      "        {\n",
      "            \"column_name\": \"math score\",\n",
      "            \"data_type\": \"int\",\n",
      "            \"categorical\": true,\n",
      "            \"order\": \"random\",\n",
      "            \"samples\": \"['55', '74', '52', '73', '53']\",\n",
      "            \"statistics\": {\n",
      "                \"min\": 0.0,\n",
      "                \"max\": 100.0,\n",
      "                \"mode\": \"[65.05]\",\n",
      "                \"median\": 66.0739,\n",
      "                \"sum\": 66061.0,\n",
      "                \"mean\": 66.061,\n",
      "                \"variance\": 231.8812,\n",
      "                \"stddev\": 15.2276,\n",
      "                \"skewness\": -0.294,\n",
      "                \"kurtosis\": 0.2882,\n",
      "                \"histogram\": {\n",
      "                    \"bin_edges\": \"[ 0.,  4.,  8., 12., 16., ... ,  84.,  88.,  92.,  96., 100.]\",\n",
      "                    \"bin_counts\": \"[1., 0., 1., 0., 2., ... , 65., 49., 38., 19., 22.]\"\n",
      "                },\n",
      "                \"quantiles\": {\n",
      "                    \"0\": 57.0056,\n",
      "                    \"1\": 66.0739,\n",
      "                    \"2\": 77.0125\n",
      "                },\n",
      "                \"median_abs_deviation\": 10.0171,\n",
      "                \"num_zeros\": 1,\n",
      "                \"num_negatives\": 0,\n",
      "                \"times\": {\n",
      "                    \"min\": 0.0,\n",
      "                    \"max\": 0.0,\n",
      "                    \"sum\": 0.0,\n",
      "                    \"variance\": 0.0,\n",
      "                    \"skewness\": 0.0,\n",
      "                    \"kurtosis\": 0.0,\n",
      "                    \"histogram_and_quantiles\": 0.0,\n",
      "                    \"num_zeros\": 0.0,\n",
      "                    \"num_negatives\": 0.0\n",
      "                },\n",
      "                \"unique_count\": 81,\n",
      "                \"unique_ratio\": 0.081,\n",
      "                \"categories\": \"['65', '62', '69', '59', ... , '28', '33', '18', '8']\",\n",
      "                \"gini_impurity\": 0.9802,\n",
      "                \"unalikeability\": 0.9812,\n",
      "                \"categorical_count\": {\n",
      "                    \"65\": 36,\n",
      "                    \"62\": 35,\n",
      "                    \"69\": 33,\n",
      "                    \"59\": 31,\n",
      "                    \"61\": 27,\n",
      "                    \"73\": 27,\n",
      "                    \"74\": 26,\n",
      "                    \"63\": 26,\n",
      "                    \"67\": 26,\n",
      "                    \"71\": 26,\n",
      "                    \"68\": 25,\n",
      "                    \"58\": 25,\n",
      "                    \"77\": 24,\n",
      "                    \"53\": 24,\n",
      "                    \"66\": 23,\n",
      "                    \"79\": 22,\n",
      "                    \"81\": 22,\n",
      "                    \"75\": 21,\n",
      "                    \"76\": 21,\n",
      "                    \"64\": 20,\n",
      "                    \"52\": 18,\n",
      "                    \"55\": 18,\n",
      "                    \"57\": 18,\n",
      "                    \"82\": 18,\n",
      "                    \"72\": 18,\n",
      "                    \"70\": 18,\n",
      "                    \"54\": 18,\n",
      "                    \"49\": 17,\n",
      "                    \"80\": 17,\n",
      "                    \"60\": 16,\n",
      "                    \"87\": 16,\n",
      "                    \"88\": 15,\n",
      "                    \"50\": 15,\n",
      "                    \"85\": 14,\n",
      "                    \"78\": 14,\n",
      "                    \"46\": 11,\n",
      "                    \"47\": 11,\n",
      "                    \"84\": 11,\n",
      "                    \"48\": 11,\n",
      "                    \"51\": 11,\n",
      "                    \"40\": 10,\n",
      "                    \"91\": 9,\n",
      "                    \"45\": 9,\n",
      "                    \"56\": 9,\n",
      "                    \"44\": 9,\n",
      "                    \"90\": 8,\n",
      "                    \"83\": 8,\n",
      "                    \"86\": 8,\n",
      "                    \"100\": 7,\n",
      "                    \"94\": 7,\n",
      "                    \"89\": 6,\n",
      "                    \"41\": 6,\n",
      "                    \"92\": 6,\n",
      "                    \"42\": 6,\n",
      "                    \"97\": 6,\n",
      "                    \"43\": 5,\n",
      "                    \"35\": 5,\n",
      "                    \"39\": 4,\n",
      "                    \"37\": 4,\n",
      "                    \"93\": 4,\n",
      "                    \"29\": 3,\n",
      "                    \"32\": 3,\n",
      "                    \"96\": 3,\n",
      "                    \"38\": 3,\n",
      "                    \"99\": 3,\n",
      "                    \"98\": 3,\n",
      "                    \"27\": 2,\n",
      "                    \"34\": 2,\n",
      "                    \"30\": 2,\n",
      "                    \"22\": 2,\n",
      "                    \"95\": 2,\n",
      "                    \"36\": 2,\n",
      "                    \"23\": 1,\n",
      "                    \"19\": 1,\n",
      "                    \"0\": 1,\n",
      "                    \"26\": 1,\n",
      "                    \"24\": 1,\n",
      "                    \"28\": 1,\n",
      "                    \"33\": 1,\n",
      "                    \"18\": 1,\n",
      "                    \"8\": 1\n",
      "                },\n",
      "                \"sample_size\": 1000,\n",
      "                \"null_count\": 0,\n",
      "                \"null_types\": [],\n",
      "                \"null_types_index\": {},\n",
      "                \"data_type_representation\": {\n",
      "                    \"datetime\": 0.0,\n",
      "                    \"int\": 1.0,\n",
      "                    \"float\": 1.0,\n",
      "                    \"string\": 1.0\n",
      "                }\n",
      "            }\n",
      "        },\n",
      "        {\n",
      "            \"column_name\": \"reading score\",\n",
      "            \"data_type\": \"int\",\n",
      "            \"categorical\": true,\n",
      "            \"order\": \"random\",\n",
      "            \"samples\": \"['59', '59', '81', '54', '75']\",\n",
      "            \"statistics\": {\n",
      "                \"min\": 17.0,\n",
      "                \"max\": 100.0,\n",
      "                \"mode\": \"[71.9875]\",\n",
      "                \"median\": 69.9987,\n",
      "                \"sum\": 69164.0,\n",
      "                \"mean\": 69.164,\n",
      "                \"variance\": 214.4636,\n",
      "                \"stddev\": 14.6446,\n",
      "                \"skewness\": -0.2616,\n",
      "                \"kurtosis\": -0.0819,\n",
      "                \"histogram\": {\n",
      "                    \"bin_edges\": \"[17.        , 20.95238095, ... ,  96.04761905, 100.        ]\",\n",
      "                    \"bin_counts\": \"[1., 3., 2., 5., 4., ... , 85., 59., 46., 21., 25.]\"\n",
      "                },\n",
      "                \"quantiles\": {\n",
      "                    \"0\": 59.0566,\n",
      "                    \"1\": 69.9987,\n",
      "                    \"2\": 79.001\n",
      "                },\n",
      "                \"median_abs_deviation\": 10.028,\n",
      "                \"num_zeros\": 0,\n",
      "                \"num_negatives\": 0,\n",
      "                \"times\": {\n",
      "                    \"min\": 0.0,\n",
      "                    \"max\": 0.0,\n",
      "                    \"sum\": 0.0,\n",
      "                    \"variance\": 0.0,\n",
      "                    \"skewness\": 0.0,\n",
      "                    \"kurtosis\": 0.0,\n",
      "                    \"histogram_and_quantiles\": 0.0,\n",
      "                    \"num_zeros\": 0.0,\n",
      "                    \"num_negatives\": 0.0\n",
      "                },\n",
      "                \"unique_count\": 72,\n",
      "                \"unique_ratio\": 0.072,\n",
      "                \"categories\": \"['72', '74', '64', '73', ... , '26', '17', '32', '40']\",\n",
      "                \"gini_impurity\": 0.9797,\n",
      "                \"unalikeability\": 0.9807,\n",
      "                \"categorical_count\": {\n",
      "                    \"72\": 34,\n",
      "                    \"74\": 32,\n",
      "                    \"64\": 32,\n",
      "                    \"73\": 30,\n",
      "                    \"67\": 30,\n",
      "                    \"58\": 28,\n",
      "                    \"78\": 27,\n",
      "                    \"70\": 26,\n",
      "                    \"75\": 26,\n",
      "                    \"84\": 26,\n",
      "                    \"66\": 26,\n",
      "                    \"81\": 25,\n",
      "                    \"76\": 25,\n",
      "                    \"61\": 24,\n",
      "                    \"77\": 24,\n",
      "                    \"68\": 23,\n",
      "                    \"62\": 22,\n",
      "                    \"71\": 21,\n",
      "                    \"60\": 21,\n",
      "                    \"63\": 20,\n",
      "                    \"82\": 20,\n",
      "                    \"86\": 19,\n",
      "                    \"79\": 19,\n",
      "                    \"65\": 18,\n",
      "                    \"54\": 18,\n",
      "                    \"85\": 18,\n",
      "                    \"90\": 18,\n",
      "                    \"57\": 17,\n",
      "                    \"100\": 17,\n",
      "                    \"59\": 17,\n",
      "                    \"51\": 16,\n",
      "                    \"52\": 16,\n",
      "                    \"56\": 16,\n",
      "                    \"55\": 16,\n",
      "                    \"69\": 15,\n",
      "                    \"80\": 14,\n",
      "                    \"83\": 14,\n",
      "                    \"87\": 13,\n",
      "                    \"53\": 13,\n",
      "                    \"89\": 12,\n",
      "                    \"92\": 10,\n",
      "                    \"48\": 10,\n",
      "                    \"49\": 10,\n",
      "                    \"88\": 9,\n",
      "                    \"43\": 9,\n",
      "                    \"95\": 8,\n",
      "                    \"45\": 7,\n",
      "                    \"42\": 7,\n",
      "                    \"50\": 7,\n",
      "                    \"39\": 7,\n",
      "                    \"93\": 6,\n",
      "                    \"41\": 6,\n",
      "                    \"46\": 6,\n",
      "                    \"91\": 6,\n",
      "                    \"97\": 5,\n",
      "                    \"47\": 4,\n",
      "                    \"96\": 4,\n",
      "                    \"34\": 4,\n",
      "                    \"44\": 4,\n",
      "                    \"99\": 3,\n",
      "                    \"94\": 3,\n",
      "                    \"37\": 3,\n",
      "                    \"38\": 2,\n",
      "                    \"31\": 2,\n",
      "                    \"24\": 2,\n",
      "                    \"29\": 2,\n",
      "                    \"23\": 1,\n",
      "                    \"28\": 1,\n",
      "                    \"26\": 1,\n",
      "                    \"17\": 1,\n",
      "                    \"32\": 1,\n",
      "                    \"40\": 1\n",
      "                },\n",
      "                \"sample_size\": 1000,\n",
      "                \"null_count\": 0,\n",
      "                \"null_types\": [],\n",
      "                \"null_types_index\": {},\n",
      "                \"data_type_representation\": {\n",
      "                    \"datetime\": 0.0,\n",
      "                    \"int\": 1.0,\n",
      "                    \"float\": 1.0,\n",
      "                    \"string\": 1.0\n",
      "                }\n",
      "            }\n",
      "        },\n",
      "        {\n",
      "            \"column_name\": \"writing score\",\n",
      "            \"data_type\": \"int\",\n",
      "            \"categorical\": true,\n",
      "            \"order\": \"random\",\n",
      "            \"samples\": \"['46', '73', '58', '93', '54']\",\n",
      "            \"statistics\": {\n",
      "                \"min\": 10.0,\n",
      "                \"max\": 100.0,\n",
      "                \"mode\": \"[74.035]\",\n",
      "                \"median\": 68.9991,\n",
      "                \"sum\": 68043.0,\n",
      "                \"mean\": 68.043,\n",
      "                \"variance\": 232.5977,\n",
      "                \"stddev\": 15.2512,\n",
      "                \"skewness\": -0.2938,\n",
      "                \"kurtosis\": -0.0461,\n",
      "                \"histogram\": {\n",
      "                    \"bin_edges\": \"[10.        , 14.28571429, ... ,  95.71428571, 100.        ]\",\n",
      "                    \"bin_counts\": \"[1., 1., 2., 4., 2., ... , 90., 66., 42., 31., 26.]\"\n",
      "                },\n",
      "                \"quantiles\": {\n",
      "                    \"0\": 57.0653,\n",
      "                    \"1\": 68.9991,\n",
      "                    \"2\": 78.9637\n",
      "                },\n",
      "                \"median_abs_deviation\": 10.9442,\n",
      "                \"num_zeros\": 0,\n",
      "                \"num_negatives\": 0,\n",
      "                \"times\": {\n",
      "                    \"min\": 0.0,\n",
      "                    \"max\": 0.0,\n",
      "                    \"sum\": 0.0,\n",
      "                    \"variance\": 0.0,\n",
      "                    \"skewness\": 0.0,\n",
      "                    \"kurtosis\": 0.0,\n",
      "                    \"histogram_and_quantiles\": 0.0,\n",
      "                    \"num_zeros\": 0.0,\n",
      "                    \"num_negatives\": 0.0\n",
      "                },\n",
      "                \"unique_count\": 77,\n",
      "                \"unique_ratio\": 0.077,\n",
      "                \"categories\": \"['74', '70', '68', '73', ... , '22', '15', '30', '23']\",\n",
      "                \"gini_impurity\": 0.9806,\n",
      "                \"unalikeability\": 0.9816,\n",
      "                \"categorical_count\": {\n",
      "                    \"74\": 34,\n",
      "                    \"70\": 33,\n",
      "                    \"68\": 31,\n",
      "                    \"73\": 28,\n",
      "                    \"80\": 27,\n",
      "                    \"62\": 27,\n",
      "                    \"78\": 26,\n",
      "                    \"76\": 25,\n",
      "                    \"72\": 25,\n",
      "                    \"54\": 25,\n",
      "                    \"77\": 24,\n",
      "                    \"66\": 24,\n",
      "                    \"67\": 24,\n",
      "                    \"82\": 24,\n",
      "                    \"65\": 22,\n",
      "                    \"64\": 22,\n",
      "                    \"69\": 22,\n",
      "                    \"75\": 22,\n",
      "                    \"61\": 21,\n",
      "                    \"81\": 20,\n",
      "                    \"52\": 20,\n",
      "                    \"60\": 20,\n",
      "                    \"57\": 19,\n",
      "                    \"79\": 19,\n",
      "                    \"71\": 18,\n",
      "                    \"58\": 18,\n",
      "                    \"53\": 17,\n",
      "                    \"51\": 17,\n",
      "                    \"84\": 16,\n",
      "                    \"63\": 15,\n",
      "                    \"55\": 14,\n",
      "                    \"85\": 14,\n",
      "                    \"100\": 14,\n",
      "                    \"56\": 14,\n",
      "                    \"83\": 13,\n",
      "                    \"59\": 13,\n",
      "                    \"86\": 12,\n",
      "                    \"43\": 12,\n",
      "                    \"88\": 12,\n",
      "                    \"91\": 11,\n",
      "                    \"87\": 11,\n",
      "                    \"47\": 10,\n",
      "                    \"50\": 10,\n",
      "                    \"46\": 10,\n",
      "                    \"90\": 10,\n",
      "                    \"92\": 9,\n",
      "                    \"49\": 9,\n",
      "                    \"89\": 9,\n",
      "                    \"93\": 8,\n",
      "                    \"95\": 8,\n",
      "                    \"48\": 8,\n",
      "                    \"44\": 8,\n",
      "                    \"41\": 8,\n",
      "                    \"45\": 7,\n",
      "                    \"42\": 7,\n",
      "                    \"38\": 6,\n",
      "                    \"94\": 6,\n",
      "                    \"36\": 4,\n",
      "                    \"96\": 4,\n",
      "                    \"99\": 4,\n",
      "                    \"27\": 3,\n",
      "                    \"34\": 3,\n",
      "                    \"33\": 3,\n",
      "                    \"40\": 3,\n",
      "                    \"39\": 2,\n",
      "                    \"98\": 2,\n",
      "                    \"32\": 2,\n",
      "                    \"97\": 2,\n",
      "                    \"37\": 2,\n",
      "                    \"10\": 1,\n",
      "                    \"28\": 1,\n",
      "                    \"19\": 1,\n",
      "                    \"35\": 1,\n",
      "                    \"22\": 1,\n",
      "                    \"15\": 1,\n",
      "                    \"30\": 1,\n",
      "                    \"23\": 1\n",
      "                },\n",
      "                \"sample_size\": 1000,\n",
      "                \"null_count\": 0,\n",
      "                \"null_types\": [],\n",
      "                \"null_types_index\": {},\n",
      "                \"data_type_representation\": {\n",
      "                    \"datetime\": 0.0,\n",
      "                    \"int\": 1.0,\n",
      "                    \"float\": 1.0,\n",
      "                    \"string\": 1.0\n",
      "                }\n",
      "            }\n",
      "        }\n",
      "    ]\n",
      "}\n"
     ]
    },
    {
     "name": "stderr",
     "output_type": "stream",
     "text": [
      "\n"
     ]
    }
   ],
   "source": [
    "# @title #Profiler\n",
    "\n",
    "profile = Profiler(df)\n",
    "\n",
    "report  = profile.report(report_options={\"output_format\":\"pretty\"})\n",
    "\n",
    "print(json.dumps(report, indent=4))"
   ]
  },
  {
   "cell_type": "markdown",
   "metadata": {
    "id": "9Iq3brorA_Nj"
   },
   "source": [
    "##**Phase 1&2**"
   ]
  },
  {
   "cell_type": "code",
   "execution_count": null,
   "metadata": {
    "id": "5ygj0AcN2JQz",
    "outputId": "285b4a22-ee52-4f9e-8b55-84afaa11442c"
   },
   "outputs": [
    {
     "data": {
      "text/plain": [
       "gender                          0\n",
       "race/ethnicity                 11\n",
       "parental level of education    21\n",
       "lunch                          12\n",
       "test preparation course         4\n",
       "math score                      0\n",
       "reading score                   0\n",
       "writing score                   0\n",
       "dtype: int64"
      ]
     },
     "execution_count": 29,
     "metadata": {},
     "output_type": "execute_result"
    }
   ],
   "source": [
    "df.isna().sum()"
   ]
  },
  {
   "cell_type": "markdown",
   "metadata": {
    "id": "aFBqjXy4A_Nk"
   },
   "source": [
    "##**Handling Missing Values**"
   ]
  },
  {
   "cell_type": "code",
   "execution_count": null,
   "metadata": {
    "id": "zTmX3jMGA_Nk",
    "outputId": "ec8ebb0d-a276-4f02-c725-a894b6f849e5"
   },
   "outputs": [
    {
     "data": {
      "text/html": [
       "<div>\n",
       "<style scoped>\n",
       "    .dataframe tbody tr th:only-of-type {\n",
       "        vertical-align: middle;\n",
       "    }\n",
       "\n",
       "    .dataframe tbody tr th {\n",
       "        vertical-align: top;\n",
       "    }\n",
       "\n",
       "    .dataframe thead th {\n",
       "        text-align: right;\n",
       "    }\n",
       "</style>\n",
       "<table border=\"1\" class=\"dataframe\">\n",
       "  <thead>\n",
       "    <tr style=\"text-align: right;\">\n",
       "      <th></th>\n",
       "      <th>gender</th>\n",
       "      <th>race/ethnicity</th>\n",
       "      <th>parental level of education</th>\n",
       "      <th>lunch</th>\n",
       "      <th>test preparation course</th>\n",
       "      <th>math score</th>\n",
       "      <th>reading score</th>\n",
       "      <th>writing score</th>\n",
       "    </tr>\n",
       "  </thead>\n",
       "  <tbody>\n",
       "    <tr>\n",
       "      <th>0</th>\n",
       "      <td>female</td>\n",
       "      <td>group B</td>\n",
       "      <td>bachelor's degree</td>\n",
       "      <td>standard</td>\n",
       "      <td>none</td>\n",
       "      <td>72</td>\n",
       "      <td>72</td>\n",
       "      <td>74</td>\n",
       "    </tr>\n",
       "    <tr>\n",
       "      <th>1</th>\n",
       "      <td>female</td>\n",
       "      <td>group C</td>\n",
       "      <td>some college</td>\n",
       "      <td>standard</td>\n",
       "      <td>completed</td>\n",
       "      <td>69</td>\n",
       "      <td>90</td>\n",
       "      <td>88</td>\n",
       "    </tr>\n",
       "    <tr>\n",
       "      <th>2</th>\n",
       "      <td>female</td>\n",
       "      <td>group B</td>\n",
       "      <td>master's degree</td>\n",
       "      <td>standard</td>\n",
       "      <td>none</td>\n",
       "      <td>90</td>\n",
       "      <td>95</td>\n",
       "      <td>93</td>\n",
       "    </tr>\n",
       "    <tr>\n",
       "      <th>3</th>\n",
       "      <td>male</td>\n",
       "      <td>group A</td>\n",
       "      <td>associate's degree</td>\n",
       "      <td>free/reduced</td>\n",
       "      <td>none</td>\n",
       "      <td>47</td>\n",
       "      <td>57</td>\n",
       "      <td>44</td>\n",
       "    </tr>\n",
       "    <tr>\n",
       "      <th>4</th>\n",
       "      <td>male</td>\n",
       "      <td>group C</td>\n",
       "      <td>some college</td>\n",
       "      <td>standard</td>\n",
       "      <td>none</td>\n",
       "      <td>76</td>\n",
       "      <td>78</td>\n",
       "      <td>75</td>\n",
       "    </tr>\n",
       "    <tr>\n",
       "      <th>...</th>\n",
       "      <td>...</td>\n",
       "      <td>...</td>\n",
       "      <td>...</td>\n",
       "      <td>...</td>\n",
       "      <td>...</td>\n",
       "      <td>...</td>\n",
       "      <td>...</td>\n",
       "      <td>...</td>\n",
       "    </tr>\n",
       "    <tr>\n",
       "      <th>995</th>\n",
       "      <td>female</td>\n",
       "      <td>group E</td>\n",
       "      <td>master's degree</td>\n",
       "      <td>standard</td>\n",
       "      <td>completed</td>\n",
       "      <td>88</td>\n",
       "      <td>99</td>\n",
       "      <td>95</td>\n",
       "    </tr>\n",
       "    <tr>\n",
       "      <th>996</th>\n",
       "      <td>male</td>\n",
       "      <td>group C</td>\n",
       "      <td>high school</td>\n",
       "      <td>free/reduced</td>\n",
       "      <td>none</td>\n",
       "      <td>62</td>\n",
       "      <td>55</td>\n",
       "      <td>55</td>\n",
       "    </tr>\n",
       "    <tr>\n",
       "      <th>997</th>\n",
       "      <td>female</td>\n",
       "      <td>group C</td>\n",
       "      <td>high school</td>\n",
       "      <td>free/reduced</td>\n",
       "      <td>completed</td>\n",
       "      <td>59</td>\n",
       "      <td>71</td>\n",
       "      <td>65</td>\n",
       "    </tr>\n",
       "    <tr>\n",
       "      <th>998</th>\n",
       "      <td>female</td>\n",
       "      <td>group D</td>\n",
       "      <td>some college</td>\n",
       "      <td>standard</td>\n",
       "      <td>completed</td>\n",
       "      <td>68</td>\n",
       "      <td>78</td>\n",
       "      <td>77</td>\n",
       "    </tr>\n",
       "    <tr>\n",
       "      <th>999</th>\n",
       "      <td>female</td>\n",
       "      <td>group D</td>\n",
       "      <td>some college</td>\n",
       "      <td>free/reduced</td>\n",
       "      <td>none</td>\n",
       "      <td>77</td>\n",
       "      <td>86</td>\n",
       "      <td>86</td>\n",
       "    </tr>\n",
       "  </tbody>\n",
       "</table>\n",
       "<p>1000 rows × 8 columns</p>\n",
       "</div>"
      ],
      "text/plain": [
       "     gender race/ethnicity parental level of education         lunch  \\\n",
       "0    female        group B           bachelor's degree      standard   \n",
       "1    female        group C                some college      standard   \n",
       "2    female        group B             master's degree      standard   \n",
       "3      male        group A          associate's degree  free/reduced   \n",
       "4      male        group C                some college      standard   \n",
       "..      ...            ...                         ...           ...   \n",
       "995  female        group E             master's degree      standard   \n",
       "996    male        group C                 high school  free/reduced   \n",
       "997  female        group C                 high school  free/reduced   \n",
       "998  female        group D                some college      standard   \n",
       "999  female        group D                some college  free/reduced   \n",
       "\n",
       "    test preparation course  math score  reading score  writing score  \n",
       "0                      none          72             72             74  \n",
       "1                 completed          69             90             88  \n",
       "2                      none          90             95             93  \n",
       "3                      none          47             57             44  \n",
       "4                      none          76             78             75  \n",
       "..                      ...         ...            ...            ...  \n",
       "995               completed          88             99             95  \n",
       "996                    none          62             55             55  \n",
       "997               completed          59             71             65  \n",
       "998               completed          68             78             77  \n",
       "999                    none          77             86             86  \n",
       "\n",
       "[1000 rows x 8 columns]"
      ]
     },
     "execution_count": 35,
     "metadata": {},
     "output_type": "execute_result"
    }
   ],
   "source": [
    "df"
   ]
  },
  {
   "cell_type": "code",
   "execution_count": null,
   "metadata": {
    "id": "Mkj1A7FKA_Nl",
    "outputId": "af2ce703-6faa-4eeb-98b7-bda10d8f1ded"
   },
   "outputs": [
    {
     "data": {
      "text/plain": [
       "array(['none', 'completed'], dtype=object)"
      ]
     },
     "execution_count": 50,
     "metadata": {},
     "output_type": "execute_result"
    }
   ],
   "source": [
    "df['test preparation course'].unique()"
   ]
  },
  {
   "cell_type": "code",
   "execution_count": null,
   "metadata": {
    "id": "PhAc_ePdA_Nl"
   },
   "outputs": [],
   "source": [
    "for i in range(len(df)):\n",
    "\n",
    "    if pd.isna(df[\"race/ethnicity\"][i]):\n",
    "\n",
    "        if df[\"parental level of education\"][i] in [\"bachelor's degree\", \"master's degree\"]:\n",
    "\n",
    "            df.at[i, 'race/ethnicity'] = \"group B\"\n",
    "\n",
    "        elif df[\"parental level of education\"][i] == \"associate's degree\":\n",
    "\n",
    "            df.at[i, 'race/ethnicity'] = \"group A\"\n",
    "\n",
    "        else:\n",
    "\n",
    "            df.at[i, 'race/ethnicity'] = \"group C\"\n",
    "\n",
    "\n",
    "\n",
    "\n",
    "\n",
    "    if pd.isna(df[\"parental level of education\"][i]):\n",
    "\n",
    "        if df['race/ethnicity'][i] == \"group B\":\n",
    "\n",
    "            df.at[i, 'parental level of education'] = \"bachelor's degree\"\n",
    "\n",
    "        elif df['race/ethnicity'][i] == \"group C\":\n",
    "\n",
    "            df.at[i, 'parental level of education'] = \"some college\"\n",
    "\n",
    "        elif df['race/ethnicity'][i] == \"group A\":\n",
    "\n",
    "            df.at[i, 'parental level of education'] = \"associate's degree\"\n",
    "\n",
    "        elif df['race/ethnicity'][i] == \"group D\":\n",
    "\n",
    "            df.at[i, 'parental level of education'] = \"high school\"\n",
    "\n",
    "        elif df['race/ethnicity'][i] == \"group E\":\n",
    "\n",
    "            df.at[i, 'parental level of education'] = \"some high school\"\n",
    "\n",
    "\n",
    "\n",
    "    if pd.isna(df[\"lunch\"][i]):\n",
    "\n",
    "         if df[\"parental level of education\"][i] in [\"bachelor's degree\", \"master's degree\",\"associate's degree\"]:\n",
    "\n",
    "                df.at[i,\"lunch\"] = 'standard'\n",
    "\n",
    "         else:\n",
    "\n",
    "            df.at[i,\"lunch\"] = 'free/reduced'\n",
    "\n",
    "\n",
    "\n",
    "    if pd.isna(df[\"test preparation course\"][i]):\n",
    "\n",
    "        if df[\"parental level of education\"][i] in [\"bachelor's degree\", \"master's degree\",\"associate's degree\"]:\n",
    "\n",
    "            df.at[i,\"test preparation course\"] = \"completed\"\n",
    "\n",
    "\n"
   ]
  },
  {
   "cell_type": "code",
   "execution_count": null,
   "metadata": {
    "id": "FN1cWHUAA_Nl",
    "outputId": "91deb313-dca4-4eae-d662-894218ec3fc5"
   },
   "outputs": [
    {
     "data": {
      "text/plain": [
       "gender                         0\n",
       "race/ethnicity                 0\n",
       "parental level of education    0\n",
       "lunch                          0\n",
       "test preparation course        3\n",
       "math score                     0\n",
       "reading score                  0\n",
       "writing score                  0\n",
       "dtype: int64"
      ]
     },
     "execution_count": 44,
     "metadata": {},
     "output_type": "execute_result"
    }
   ],
   "source": [
    "df.isna().sum()"
   ]
  },
  {
   "cell_type": "code",
   "execution_count": null,
   "metadata": {
    "id": "KaEOe0c7A_Nm"
   },
   "outputs": [],
   "source": [
    "df.dropna(inplace=True)"
   ]
  },
  {
   "cell_type": "code",
   "execution_count": null,
   "metadata": {
    "id": "vUIKB5hxA_Nm",
    "outputId": "acf347ea-c3a1-48be-eb4e-80dea88c299d"
   },
   "outputs": [
    {
     "data": {
      "text/plain": [
       "gender                         0\n",
       "race/ethnicity                 0\n",
       "parental level of education    0\n",
       "lunch                          0\n",
       "test preparation course        0\n",
       "math score                     0\n",
       "reading score                  0\n",
       "writing score                  0\n",
       "dtype: int64"
      ]
     },
     "execution_count": 46,
     "metadata": {},
     "output_type": "execute_result"
    }
   ],
   "source": [
    "df.isna().sum()"
   ]
  },
  {
   "cell_type": "code",
   "execution_count": null,
   "metadata": {
    "id": "HzQaRQI-A_Nm",
    "outputId": "23bef6d8-a7c2-4bce-e26e-870fa4157c34"
   },
   "outputs": [
    {
     "data": {
      "text/plain": [
       "Index(['gender', 'race/ethnicity', 'parental level of education', 'lunch',\n",
       "       'test preparation course', 'math score', 'reading score',\n",
       "       'writing score'],\n",
       "      dtype='object')"
      ]
     },
     "execution_count": 47,
     "metadata": {},
     "output_type": "execute_result"
    }
   ],
   "source": [
    "df.columns"
   ]
  },
  {
   "cell_type": "markdown",
   "metadata": {
    "id": "dPc2IZJoBK3C"
   },
   "source": [
    "##**Validation Schema**"
   ]
  },
  {
   "cell_type": "code",
   "execution_count": null,
   "metadata": {
    "id": "iC3mXNOLA_Nn",
    "outputId": "dead5902-b415-42e9-f8e9-211132521053"
   },
   "outputs": [
    {
     "name": "stdout",
     "output_type": "stream",
     "text": [
      "Collecting pandera[io]\n",
      "  Obtaining dependency information for pandera[io] from https://files.pythonhosted.org/packages/b2/69/35e315fd583f02a911858a5e3af1950fc1bb5f50a90f300fe2ba308c7c58/pandera-0.19.2-py3-none-any.whl.metadata\n",
      "  Downloading pandera-0.19.2-py3-none-any.whl.metadata (15 kB)\n",
      "Collecting multimethod<=1.10.0 (from pandera[io])\n",
      "  Obtaining dependency information for multimethod<=1.10.0 from https://files.pythonhosted.org/packages/7f/bd/750245e47e7f307d9f94d4fa84727f4ed9956005dfa671d58be1d531a0f6/multimethod-1.10-py3-none-any.whl.metadata\n",
      "  Downloading multimethod-1.10-py3-none-any.whl.metadata (8.2 kB)\n",
      "Requirement already satisfied: numpy>=1.19.0 in f:\\anaconda\\lib\\site-packages (from pandera[io]) (1.24.3)\n",
      "Requirement already satisfied: packaging>=20.0 in f:\\anaconda\\lib\\site-packages (from pandera[io]) (23.1)\n",
      "Requirement already satisfied: pandas>=1.2.0 in f:\\anaconda\\lib\\site-packages (from pandera[io]) (2.0.3)\n",
      "Requirement already satisfied: pydantic in f:\\anaconda\\lib\\site-packages (from pandera[io]) (1.10.8)\n",
      "Collecting typeguard (from pandera[io])\n",
      "  Obtaining dependency information for typeguard from https://files.pythonhosted.org/packages/d9/59/e02336eb478ccdfc9bb0d4c27ce04a4260cd8b45aa04f6b00bcfdbb66a2a/typeguard-4.2.1-py3-none-any.whl.metadata\n",
      "  Downloading typeguard-4.2.1-py3-none-any.whl.metadata (3.7 kB)\n",
      "Collecting typing-inspect>=0.6.0 (from pandera[io])\n",
      "  Obtaining dependency information for typing-inspect>=0.6.0 from https://files.pythonhosted.org/packages/65/f3/107a22063bf27bdccf2024833d3445f4eea42b2e598abfbd46f6a63b6cb0/typing_inspect-0.9.0-py3-none-any.whl.metadata\n",
      "  Downloading typing_inspect-0.9.0-py3-none-any.whl.metadata (1.5 kB)\n",
      "Requirement already satisfied: wrapt in f:\\anaconda\\lib\\site-packages (from pandera[io]) (1.14.1)\n",
      "Requirement already satisfied: pyyaml>=5.1 in f:\\anaconda\\lib\\site-packages (from pandera[io]) (6.0)\n",
      "Requirement already satisfied: black in f:\\anaconda\\lib\\site-packages (from pandera[io]) (0.0)\n",
      "Collecting frictionless<=4.40.8 (from pandera[io])\n",
      "  Obtaining dependency information for frictionless<=4.40.8 from https://files.pythonhosted.org/packages/9b/9f/e0665962954bd22b1c3648fcba81547f6408914bfd580d864593ffdda83e/frictionless-4.40.8-py2.py3-none-any.whl.metadata\n",
      "  Downloading frictionless-4.40.8-py2.py3-none-any.whl.metadata (7.1 kB)\n",
      "Collecting petl>=1.6 (from frictionless<=4.40.8->pandera[io])\n",
      "  Downloading petl-1.7.15.tar.gz (414 kB)\n",
      "     ---------------------------------------- 0.0/414.1 kB ? eta -:--:--\n",
      "     - -------------------------------------- 20.5/414.1 kB ? eta -:--:--\n",
      "     ------ -------------------------------- 71.7/414.1 kB 1.3 MB/s eta 0:00:01\n",
      "     --------------- ---------------------- 163.8/414.1 kB 1.4 MB/s eta 0:00:01\n",
      "     ------------------------ ------------- 266.2/414.1 kB 1.6 MB/s eta 0:00:01\n",
      "     ----------------------------- -------- 317.4/414.1 kB 2.0 MB/s eta 0:00:01\n",
      "     ------------------------------- ------ 348.2/414.1 kB 1.4 MB/s eta 0:00:01\n",
      "     -------------------------------------- 414.1/414.1 kB 1.5 MB/s eta 0:00:00\n",
      "  Installing build dependencies: started\n",
      "  Installing build dependencies: finished with status 'done'\n",
      "  Getting requirements to build wheel: started\n",
      "  Getting requirements to build wheel: finished with status 'done'\n",
      "  Preparing metadata (pyproject.toml): started\n",
      "  Preparing metadata (pyproject.toml): finished with status 'done'\n",
      "Collecting marko>=1.0 (from frictionless<=4.40.8->pandera[io])\n",
      "  Obtaining dependency information for marko>=1.0 from https://files.pythonhosted.org/packages/8a/eb/19207d803a65645245b83f916a19b6ed14c94d2be331a1cffb7024c453f2/marko-2.0.3-py3-none-any.whl.metadata\n",
      "  Downloading marko-2.0.3-py3-none-any.whl.metadata (4.6 kB)\n",
      "Collecting isodate>=0.6 (from frictionless<=4.40.8->pandera[io])\n",
      "  Obtaining dependency information for isodate>=0.6 from https://files.pythonhosted.org/packages/b6/85/7882d311924cbcfc70b1890780763e36ff0b140c7e51c110fc59a532f087/isodate-0.6.1-py2.py3-none-any.whl.metadata\n",
      "  Downloading isodate-0.6.1-py2.py3-none-any.whl.metadata (9.6 kB)\n",
      "Collecting rfc3986>=1.4 (from frictionless<=4.40.8->pandera[io])\n",
      "  Obtaining dependency information for rfc3986>=1.4 from https://files.pythonhosted.org/packages/ff/9a/9afaade874b2fa6c752c36f1548f718b5b83af81ed9b76628329dab81c1b/rfc3986-2.0.0-py2.py3-none-any.whl.metadata\n",
      "  Downloading rfc3986-2.0.0-py2.py3-none-any.whl.metadata (6.6 kB)\n",
      "Requirement already satisfied: chardet>=3.0 in f:\\anaconda\\lib\\site-packages (from frictionless<=4.40.8->pandera[io]) (4.0.0)\n",
      "Requirement already satisfied: requests>=2.10 in f:\\anaconda\\lib\\site-packages (from frictionless<=4.40.8->pandera[io]) (2.31.0)\n",
      "Requirement already satisfied: jsonschema>=2.5 in f:\\anaconda\\lib\\site-packages (from frictionless<=4.40.8->pandera[io]) (4.17.3)\n",
      "Collecting simpleeval>=0.9.11 (from frictionless<=4.40.8->pandera[io])\n",
      "  Obtaining dependency information for simpleeval>=0.9.11 from https://files.pythonhosted.org/packages/0a/51/bedb4af4f3fe4bb32a3cabfd285be388958c6d676f6b0fa65997812a381b/simpleeval-0.9.13-py2.py3-none-any.whl.metadata\n",
      "  Downloading simpleeval-0.9.13-py2.py3-none-any.whl.metadata (15 kB)\n",
      "Collecting stringcase>=1.2 (from frictionless<=4.40.8->pandera[io])\n",
      "  Downloading stringcase-1.2.0.tar.gz (3.0 kB)\n",
      "  Preparing metadata (setup.py): started\n",
      "  Preparing metadata (setup.py): finished with status 'done'\n",
      "Collecting typer[all]>=0.5 (from frictionless<=4.40.8->pandera[io])\n",
      "  Obtaining dependency information for typer[all]>=0.5 from https://files.pythonhosted.org/packages/20/b5/11cf2e34fbb11b937e006286ab5b8cfd334fde1c8fa4dd7f491226931180/typer-0.12.3-py3-none-any.whl.metadata\n",
      "  Downloading typer-0.12.3-py3-none-any.whl.metadata (15 kB)\n",
      "Collecting validators>=0.18 (from frictionless<=4.40.8->pandera[io])\n",
      "  Obtaining dependency information for validators>=0.18 from https://files.pythonhosted.org/packages/e8/a4/40155f725ccb1b4e0f237b435a7664ea54146efb15ef70948e494b6acac4/validators-0.28.1-py3-none-any.whl.metadata\n",
      "  Downloading validators-0.28.1-py3-none-any.whl.metadata (3.6 kB)\n",
      "Requirement already satisfied: python-slugify>=1.2 in f:\\anaconda\\lib\\site-packages (from frictionless<=4.40.8->pandera[io]) (5.0.2)\n",
      "Requirement already satisfied: python-dateutil>=2.8 in f:\\anaconda\\lib\\site-packages (from frictionless<=4.40.8->pandera[io]) (2.8.2)\n",
      "Requirement already satisfied: tabulate>=0.8.10 in f:\\anaconda\\lib\\site-packages (from frictionless<=4.40.8->pandera[io]) (0.8.10)\n",
      "Requirement already satisfied: jinja2>=3.0.3 in f:\\anaconda\\lib\\site-packages (from frictionless<=4.40.8->pandera[io]) (3.1.2)\n",
      "Requirement already satisfied: pytz>=2020.1 in f:\\anaconda\\lib\\site-packages (from pandas>=1.2.0->pandera[io]) (2023.3.post1)\n",
      "Requirement already satisfied: tzdata>=2022.1 in f:\\anaconda\\lib\\site-packages (from pandas>=1.2.0->pandera[io]) (2023.3)\n",
      "Requirement already satisfied: mypy-extensions>=0.3.0 in f:\\anaconda\\lib\\site-packages (from typing-inspect>=0.6.0->pandera[io]) (1.0.0)\n",
      "Requirement already satisfied: typing-extensions>=3.7.4 in f:\\anaconda\\lib\\site-packages (from typing-inspect>=0.6.0->pandera[io]) (4.9.0)\n",
      "Requirement already satisfied: click>=8.0.0 in f:\\anaconda\\lib\\site-packages (from black->pandera[io]) (8.0.4)\n",
      "Requirement already satisfied: pathspec>=0.9.0 in f:\\anaconda\\lib\\site-packages (from black->pandera[io]) (0.10.3)\n",
      "Requirement already satisfied: platformdirs>=2 in f:\\anaconda\\lib\\site-packages (from black->pandera[io]) (3.10.0)\n",
      "Collecting typing-extensions>=3.7.4 (from typing-inspect>=0.6.0->pandera[io])\n",
      "  Obtaining dependency information for typing-extensions>=3.7.4 from https://files.pythonhosted.org/packages/01/f3/936e209267d6ef7510322191003885de524fc48d1b43269810cd589ceaf5/typing_extensions-4.11.0-py3-none-any.whl.metadata\n",
      "  Downloading typing_extensions-4.11.0-py3-none-any.whl.metadata (3.0 kB)\n",
      "Requirement already satisfied: colorama in f:\\anaconda\\lib\\site-packages (from click>=8.0.0->black->pandera[io]) (0.4.6)\n",
      "Requirement already satisfied: six in f:\\anaconda\\lib\\site-packages (from isodate>=0.6->frictionless<=4.40.8->pandera[io]) (1.16.0)\n",
      "Requirement already satisfied: MarkupSafe>=2.0 in f:\\anaconda\\lib\\site-packages (from jinja2>=3.0.3->frictionless<=4.40.8->pandera[io]) (2.1.1)\n",
      "Requirement already satisfied: attrs>=17.4.0 in f:\\anaconda\\lib\\site-packages (from jsonschema>=2.5->frictionless<=4.40.8->pandera[io]) (22.1.0)\n",
      "Requirement already satisfied: pyrsistent!=0.17.0,!=0.17.1,!=0.17.2,>=0.14.0 in f:\\anaconda\\lib\\site-packages (from jsonschema>=2.5->frictionless<=4.40.8->pandera[io]) (0.18.0)\n",
      "Requirement already satisfied: text-unidecode>=1.3 in f:\\anaconda\\lib\\site-packages (from python-slugify>=1.2->frictionless<=4.40.8->pandera[io]) (1.3)\n",
      "Requirement already satisfied: charset-normalizer<4,>=2 in f:\\anaconda\\lib\\site-packages (from requests>=2.10->frictionless<=4.40.8->pandera[io]) (2.0.4)\n",
      "Requirement already satisfied: idna<4,>=2.5 in f:\\anaconda\\lib\\site-packages (from requests>=2.10->frictionless<=4.40.8->pandera[io]) (3.4)\n",
      "Requirement already satisfied: urllib3<3,>=1.21.1 in f:\\anaconda\\lib\\site-packages (from requests>=2.10->frictionless<=4.40.8->pandera[io]) (1.26.16)\n",
      "Requirement already satisfied: certifi>=2017.4.17 in f:\\anaconda\\lib\\site-packages (from requests>=2.10->frictionless<=4.40.8->pandera[io]) (2023.7.22)\n",
      "Collecting shellingham>=1.3.0 (from typer[all]>=0.5->frictionless<=4.40.8->pandera[io])\n",
      "  Obtaining dependency information for shellingham>=1.3.0 from https://files.pythonhosted.org/packages/e0/f9/0595336914c5619e5f28a1fb793285925a8cd4b432c9da0a987836c7f822/shellingham-1.5.4-py2.py3-none-any.whl.metadata\n",
      "  Downloading shellingham-1.5.4-py2.py3-none-any.whl.metadata (3.5 kB)\n",
      "Collecting rich>=10.11.0 (from typer[all]>=0.5->frictionless<=4.40.8->pandera[io])\n",
      "  Obtaining dependency information for rich>=10.11.0 from https://files.pythonhosted.org/packages/87/67/a37f6214d0e9fe57f6ae54b2956d550ca8365857f42a1ce0392bb21d9410/rich-13.7.1-py3-none-any.whl.metadata\n",
      "  Downloading rich-13.7.1-py3-none-any.whl.metadata (18 kB)\n",
      "Requirement already satisfied: markdown-it-py>=2.2.0 in f:\\anaconda\\lib\\site-packages (from rich>=10.11.0->typer[all]>=0.5->frictionless<=4.40.8->pandera[io]) (2.2.0)\n",
      "Requirement already satisfied: pygments<3.0.0,>=2.13.0 in f:\\anaconda\\lib\\site-packages (from rich>=10.11.0->typer[all]>=0.5->frictionless<=4.40.8->pandera[io]) (2.15.1)\n",
      "Requirement already satisfied: mdurl~=0.1 in f:\\anaconda\\lib\\site-packages (from markdown-it-py>=2.2.0->rich>=10.11.0->typer[all]>=0.5->frictionless<=4.40.8->pandera[io]) (0.1.0)\n",
      "Downloading frictionless-4.40.8-py2.py3-none-any.whl (419 kB)\n",
      "   ---------------------------------------- 0.0/419.5 kB ? eta -:--:--\n",
      "   ------- -------------------------------- 81.9/419.5 kB 4.5 MB/s eta 0:00:01\n",
      "   ------- -------------------------------- 81.9/419.5 kB 4.5 MB/s eta 0:00:01\n",
      "   -------------------------------- ------- 337.9/419.5 kB 2.3 MB/s eta 0:00:01\n",
      "   ---------------------------------------  409.6/419.5 kB 2.3 MB/s eta 0:00:01\n",
      "   ---------------------------------------- 419.5/419.5 kB 2.4 MB/s eta 0:00:00\n",
      "Downloading multimethod-1.10-py3-none-any.whl (9.9 kB)\n",
      "Downloading typing_inspect-0.9.0-py3-none-any.whl (8.8 kB)\n",
      "Downloading pandera-0.19.2-py3-none-any.whl (251 kB)\n",
      "   ---------------------------------------- 0.0/251.6 kB ? eta -:--:--\n",
      "   -------------- ------------------------- 92.2/251.6 kB 2.6 MB/s eta 0:00:01\n",
      "   -------------- ------------------------- 92.2/251.6 kB 2.6 MB/s eta 0:00:01\n",
      "   ---------------------------------------  245.8/251.6 kB 1.9 MB/s eta 0:00:01\n",
      "   ---------------------------------------  245.8/251.6 kB 1.9 MB/s eta 0:00:01\n",
      "   ---------------------------------------- 251.6/251.6 kB 1.3 MB/s eta 0:00:00\n",
      "Downloading typeguard-4.2.1-py3-none-any.whl (34 kB)\n",
      "Downloading isodate-0.6.1-py2.py3-none-any.whl (41 kB)\n",
      "   ---------------------------------------- 0.0/41.7 kB ? eta -:--:--\n",
      "   ---------------------------------------- 41.7/41.7 kB 2.1 MB/s eta 0:00:00\n",
      "Downloading marko-2.0.3-py3-none-any.whl (42 kB)\n",
      "   ---------------------------------------- 0.0/42.9 kB ? eta -:--:--\n",
      "   ---------------------------------------- 42.9/42.9 kB 2.2 MB/s eta 0:00:00\n",
      "Downloading rfc3986-2.0.0-py2.py3-none-any.whl (31 kB)\n",
      "Downloading simpleeval-0.9.13-py2.py3-none-any.whl (15 kB)\n",
      "Downloading typing_extensions-4.11.0-py3-none-any.whl (34 kB)\n",
      "Downloading validators-0.28.1-py3-none-any.whl (39 kB)\n",
      "Downloading rich-13.7.1-py3-none-any.whl (240 kB)\n",
      "   ---------------------------------------- 0.0/240.7 kB ? eta -:--:--\n",
      "   --------------- ------------------------ 92.2/240.7 kB 2.6 MB/s eta 0:00:01\n",
      "   ------------------------------------- -- 225.3/240.7 kB 2.3 MB/s eta 0:00:01\n",
      "   ---------------------------------------- 240.7/240.7 kB 2.1 MB/s eta 0:00:00\n",
      "Downloading shellingham-1.5.4-py2.py3-none-any.whl (9.8 kB)\n",
      "Downloading typer-0.12.3-py3-none-any.whl (47 kB)\n",
      "   ---------------------------------------- 0.0/47.2 kB ? eta -:--:--\n",
      "   ---------------------------------------- 47.2/47.2 kB 2.3 MB/s eta 0:00:00\n",
      "Building wheels for collected packages: petl, stringcase\n",
      "  Building wheel for petl (pyproject.toml): started\n",
      "  Building wheel for petl (pyproject.toml): finished with status 'done'\n",
      "  Created wheel for petl: filename=petl-1.7.15-py3-none-any.whl size=230756 sha256=3ae87363c97b4000fd403532254c3ba2c6282273f41fe5929f2bcfc94a75cc08\n",
      "  Stored in directory: c:\\users\\ahmed foda\\appdata\\local\\pip\\cache\\wheels\\1a\\45\\74\\b4b9e0bca13ad02054576673cc5fdb9eaf1a0f9909f9243893\n",
      "  Building wheel for stringcase (setup.py): started\n",
      "  Building wheel for stringcase (setup.py): finished with status 'done'\n",
      "  Created wheel for stringcase: filename=stringcase-1.2.0-py3-none-any.whl size=3581 sha256=9ea969c1c78c3ddcd9222d1487c1f8935b7c64e763cdd0b26753ccebe4101a64\n",
      "  Stored in directory: c:\\users\\ahmed foda\\appdata\\local\\pip\\cache\\wheels\\b4\\33\\6d\\d0820be98063da218c3206fbad2381cd2db3fbb1a0f0d254b5\n",
      "Successfully built petl stringcase\n",
      "Installing collected packages: stringcase, simpleeval, validators, typing-extensions, shellingham, rfc3986, petl, multimethod, marko, isodate, typing-inspect, typeguard, rich, typer, pandera, frictionless\n",
      "  Attempting uninstall: typing-extensions\n",
      "    Found existing installation: typing_extensions 4.9.0\n",
      "    Uninstalling typing_extensions-4.9.0:\n",
      "      Successfully uninstalled typing_extensions-4.9.0\n",
      "Successfully installed frictionless-4.40.8 isodate-0.6.1 marko-2.0.3 multimethod-1.10 pandera-0.19.2 petl-1.7.15 rfc3986-2.0.0 rich-13.7.1 shellingham-1.5.4 simpleeval-0.9.13 stringcase-1.2.0 typeguard-4.2.1 typer-0.12.3 typing-extensions-4.11.0 typing-inspect-0.9.0 validators-0.28.1\n"
     ]
    },
    {
     "name": "stderr",
     "output_type": "stream",
     "text": [
      "  WARNING: Retrying (Retry(total=4, connect=None, read=None, redirect=None, status=None)) after connection broken by 'ConnectTimeoutError(<pip._vendor.urllib3.connection.HTTPSConnection object at 0x000002191504C710>, 'Connection to files.pythonhosted.org timed out. (connect timeout=15)')': /packages/b2/69/35e315fd583f02a911858a5e3af1950fc1bb5f50a90f300fe2ba308c7c58/pandera-0.19.2-py3-none-any.whl.metadata\n",
      "WARNING: typer 0.12.3 does not provide the extra 'all'\n"
     ]
    }
   ],
   "source": [
    "!pip install pandera[io]"
   ]
  },
  {
   "cell_type": "code",
   "execution_count": null,
   "metadata": {
    "id": "2dpx6SFyA_Nn",
    "outputId": "ca3e703d-47ed-4b88-e860-a36c98d0fdf4"
   },
   "outputs": [
    {
     "name": "stdout",
     "output_type": "stream",
     "text": [
      "     gender race/ethnicity parental level of education         lunch  \\\n",
      "0    female        group B           bachelor's degree      standard   \n",
      "1    female        group C                some college      standard   \n",
      "2    female        group B             master's degree      standard   \n",
      "3      male        group A          associate's degree  free/reduced   \n",
      "4      male        group C                some college      standard   \n",
      "..      ...            ...                         ...           ...   \n",
      "995  female        group E             master's degree      standard   \n",
      "996    male        group C                 high school  free/reduced   \n",
      "997  female        group C                 high school  free/reduced   \n",
      "998  female        group D                some college      standard   \n",
      "999  female        group D                some college  free/reduced   \n",
      "\n",
      "    test preparation course  math score  reading score  writing score  \n",
      "0                      none          72             72             74  \n",
      "1                 completed          69             90             88  \n",
      "2                      none          90             95             93  \n",
      "3                      none          47             57             44  \n",
      "4                      none          76             78             75  \n",
      "..                      ...         ...            ...            ...  \n",
      "995               completed          88             99             95  \n",
      "996                    none          62             55             55  \n",
      "997               completed          59             71             65  \n",
      "998               completed          68             78             77  \n",
      "999                    none          77             86             86  \n",
      "\n",
      "[997 rows x 8 columns]\n"
     ]
    }
   ],
   "source": [
    "import pandera as pa\n",
    "\n",
    "from pandera import Column, DataFrameSchema, Check, Index\n",
    "\n",
    "\n",
    "\n",
    "\n",
    "\n",
    "schema = pa.DataFrameSchema(\n",
    "\n",
    "    {\n",
    "\n",
    "        \"gender\": Column(str,Check.isin([\"male\", \"female\"])),\n",
    "\n",
    "        \"race/ethnicity\": Column(str, Check.isin([\"group A\", \"group B\", \"group C\", \"group D\",\"group E\"])),\n",
    "\n",
    "\n",
    "\n",
    "        'parental level of education': Column(str,Check.isin([\"bachelor's degree\", 'some college', \"master's degree\",\n",
    "\n",
    "       \"associate's degree\", 'high school', 'some high school'])),\n",
    "\n",
    "\n",
    "\n",
    "        'lunch': Column(str,Check.isin(['standard', 'free/reduced'])),\n",
    "\n",
    "        \"test preparation course\": Column(str,Check.isin(['none', 'completed'])),\n",
    "\n",
    "        \"math score\": Column(int, Check.in_range(0, 100)),\n",
    "\n",
    "        \"reading score\": Column(int, Check.in_range(0, 100)),\n",
    "\n",
    "        \"writing score\": Column(int, Check.in_range(0, 100))\n",
    "\n",
    "    },\n",
    "\n",
    "\n",
    "\n",
    ")\n",
    "\n",
    "\n",
    "\n",
    "validated_df = schema(df)\n",
    "\n",
    "print(validated_df)"
   ]
  },
  {
   "cell_type": "markdown",
   "metadata": {
    "id": "mcyLXiP1BW8O"
   },
   "source": [
    "#**Data Randomization**"
   ]
  },
  {
   "cell_type": "code",
   "execution_count": null,
   "metadata": {
    "id": "gUMq_wfzA_Nn"
   },
   "outputs": [],
   "source": [
    "import string\n",
    "\n",
    "\n",
    "\n",
    "import random\n",
    "\n",
    "def randomize_values(df):\n",
    "\n",
    "    for column in df.columns:\n",
    "\n",
    "        if df[column].dtype == 'O': #datatype is object\n",
    "\n",
    "            df[column] = [''.join(random.choices(string.ascii_letters + string.digits, k=10))\n",
    "\n",
    "            for _ in range(len(df))] #generate a list of random strings for this cell\n",
    "\n",
    "    return df"
   ]
  },
  {
   "cell_type": "code",
   "execution_count": null,
   "metadata": {
    "id": "nUNEszd1A_Nn",
    "outputId": "d84eb0df-d30a-4264-ab09-d4afd48db74f"
   },
   "outputs": [
    {
     "data": {
      "text/html": [
       "<div>\n",
       "<style scoped>\n",
       "    .dataframe tbody tr th:only-of-type {\n",
       "        vertical-align: middle;\n",
       "    }\n",
       "\n",
       "    .dataframe tbody tr th {\n",
       "        vertical-align: top;\n",
       "    }\n",
       "\n",
       "    .dataframe thead th {\n",
       "        text-align: right;\n",
       "    }\n",
       "</style>\n",
       "<table border=\"1\" class=\"dataframe\">\n",
       "  <thead>\n",
       "    <tr style=\"text-align: right;\">\n",
       "      <th></th>\n",
       "      <th>gender</th>\n",
       "      <th>race/ethnicity</th>\n",
       "      <th>parental level of education</th>\n",
       "      <th>lunch</th>\n",
       "      <th>test preparation course</th>\n",
       "      <th>math score</th>\n",
       "      <th>reading score</th>\n",
       "      <th>writing score</th>\n",
       "    </tr>\n",
       "  </thead>\n",
       "  <tbody>\n",
       "    <tr>\n",
       "      <th>0</th>\n",
       "      <td>0hNfsD4EsR</td>\n",
       "      <td>hvbXe3WJ27</td>\n",
       "      <td>Xbq5GK1M8r</td>\n",
       "      <td>hjEP1UGZxD</td>\n",
       "      <td>qbsMzLCXXF</td>\n",
       "      <td>72</td>\n",
       "      <td>72</td>\n",
       "      <td>74</td>\n",
       "    </tr>\n",
       "    <tr>\n",
       "      <th>1</th>\n",
       "      <td>AKXIBakA5L</td>\n",
       "      <td>FGv6mnOkHX</td>\n",
       "      <td>Y8JLR6YDCZ</td>\n",
       "      <td>f0oWQEdqZ8</td>\n",
       "      <td>utgGryEyPB</td>\n",
       "      <td>69</td>\n",
       "      <td>90</td>\n",
       "      <td>88</td>\n",
       "    </tr>\n",
       "    <tr>\n",
       "      <th>2</th>\n",
       "      <td>foU8iJ7Gec</td>\n",
       "      <td>znN3bVFbnm</td>\n",
       "      <td>Ic2yfaEnDv</td>\n",
       "      <td>GX9Fy6EaYI</td>\n",
       "      <td>dome80jtki</td>\n",
       "      <td>90</td>\n",
       "      <td>95</td>\n",
       "      <td>93</td>\n",
       "    </tr>\n",
       "    <tr>\n",
       "      <th>3</th>\n",
       "      <td>utkbebEZ05</td>\n",
       "      <td>OQAyqjkkNk</td>\n",
       "      <td>eU69wivD9P</td>\n",
       "      <td>2YdgWJYpCr</td>\n",
       "      <td>lfCrGaYrrQ</td>\n",
       "      <td>47</td>\n",
       "      <td>57</td>\n",
       "      <td>44</td>\n",
       "    </tr>\n",
       "    <tr>\n",
       "      <th>4</th>\n",
       "      <td>o0fTZmehC0</td>\n",
       "      <td>d7rdn7PRm0</td>\n",
       "      <td>3VYoWIR6tO</td>\n",
       "      <td>8GRcl4Lnv8</td>\n",
       "      <td>S2COWYkwrN</td>\n",
       "      <td>76</td>\n",
       "      <td>78</td>\n",
       "      <td>75</td>\n",
       "    </tr>\n",
       "    <tr>\n",
       "      <th>...</th>\n",
       "      <td>...</td>\n",
       "      <td>...</td>\n",
       "      <td>...</td>\n",
       "      <td>...</td>\n",
       "      <td>...</td>\n",
       "      <td>...</td>\n",
       "      <td>...</td>\n",
       "      <td>...</td>\n",
       "    </tr>\n",
       "    <tr>\n",
       "      <th>995</th>\n",
       "      <td>JbQ913mWAg</td>\n",
       "      <td>RtOTema0AC</td>\n",
       "      <td>UFLrTnh9Mr</td>\n",
       "      <td>npkt34wEBp</td>\n",
       "      <td>qLrGeyNpb0</td>\n",
       "      <td>88</td>\n",
       "      <td>99</td>\n",
       "      <td>95</td>\n",
       "    </tr>\n",
       "    <tr>\n",
       "      <th>996</th>\n",
       "      <td>x2dtQXL0Ca</td>\n",
       "      <td>SkSVV3njLv</td>\n",
       "      <td>FJDu2etBCA</td>\n",
       "      <td>YFtXa0m1tC</td>\n",
       "      <td>SyD3UvAqWR</td>\n",
       "      <td>62</td>\n",
       "      <td>55</td>\n",
       "      <td>55</td>\n",
       "    </tr>\n",
       "    <tr>\n",
       "      <th>997</th>\n",
       "      <td>cB671FZlzJ</td>\n",
       "      <td>6jLCWF6qJ5</td>\n",
       "      <td>ZKFO2CMB3u</td>\n",
       "      <td>2rygaPCkLJ</td>\n",
       "      <td>sRcrk0GGPi</td>\n",
       "      <td>59</td>\n",
       "      <td>71</td>\n",
       "      <td>65</td>\n",
       "    </tr>\n",
       "    <tr>\n",
       "      <th>998</th>\n",
       "      <td>Zb9viiTclf</td>\n",
       "      <td>2qmjAegsAq</td>\n",
       "      <td>M6W6Ykcscj</td>\n",
       "      <td>tqj8Yrtswf</td>\n",
       "      <td>olMRSBRHqB</td>\n",
       "      <td>68</td>\n",
       "      <td>78</td>\n",
       "      <td>77</td>\n",
       "    </tr>\n",
       "    <tr>\n",
       "      <th>999</th>\n",
       "      <td>dMndyBQkyt</td>\n",
       "      <td>W2Jijf0GU7</td>\n",
       "      <td>KlHoAOBD2a</td>\n",
       "      <td>fVO7mHMQWN</td>\n",
       "      <td>j7YDLafttL</td>\n",
       "      <td>77</td>\n",
       "      <td>86</td>\n",
       "      <td>86</td>\n",
       "    </tr>\n",
       "  </tbody>\n",
       "</table>\n",
       "<p>997 rows × 8 columns</p>\n",
       "</div>"
      ],
      "text/plain": [
       "         gender race/ethnicity parental level of education       lunch  \\\n",
       "0    0hNfsD4EsR     hvbXe3WJ27                  Xbq5GK1M8r  hjEP1UGZxD   \n",
       "1    AKXIBakA5L     FGv6mnOkHX                  Y8JLR6YDCZ  f0oWQEdqZ8   \n",
       "2    foU8iJ7Gec     znN3bVFbnm                  Ic2yfaEnDv  GX9Fy6EaYI   \n",
       "3    utkbebEZ05     OQAyqjkkNk                  eU69wivD9P  2YdgWJYpCr   \n",
       "4    o0fTZmehC0     d7rdn7PRm0                  3VYoWIR6tO  8GRcl4Lnv8   \n",
       "..          ...            ...                         ...         ...   \n",
       "995  JbQ913mWAg     RtOTema0AC                  UFLrTnh9Mr  npkt34wEBp   \n",
       "996  x2dtQXL0Ca     SkSVV3njLv                  FJDu2etBCA  YFtXa0m1tC   \n",
       "997  cB671FZlzJ     6jLCWF6qJ5                  ZKFO2CMB3u  2rygaPCkLJ   \n",
       "998  Zb9viiTclf     2qmjAegsAq                  M6W6Ykcscj  tqj8Yrtswf   \n",
       "999  dMndyBQkyt     W2Jijf0GU7                  KlHoAOBD2a  fVO7mHMQWN   \n",
       "\n",
       "    test preparation course  math score  reading score  writing score  \n",
       "0                qbsMzLCXXF          72             72             74  \n",
       "1                utgGryEyPB          69             90             88  \n",
       "2                dome80jtki          90             95             93  \n",
       "3                lfCrGaYrrQ          47             57             44  \n",
       "4                S2COWYkwrN          76             78             75  \n",
       "..                      ...         ...            ...            ...  \n",
       "995              qLrGeyNpb0          88             99             95  \n",
       "996              SyD3UvAqWR          62             55             55  \n",
       "997              sRcrk0GGPi          59             71             65  \n",
       "998              olMRSBRHqB          68             78             77  \n",
       "999              j7YDLafttL          77             86             86  \n",
       "\n",
       "[997 rows x 8 columns]"
      ]
     },
     "execution_count": 60,
     "metadata": {},
     "output_type": "execute_result"
    }
   ],
   "source": [
    "df_randimoized = randomize_values(df)\n",
    "\n",
    "\n",
    "\n",
    "df_randimoized"
   ]
  },
  {
   "cell_type": "markdown",
   "metadata": {
    "id": "MkQLin-qBvJF"
   },
   "source": [
    "##**Masking**"
   ]
  },
  {
   "cell_type": "code",
   "execution_count": null,
   "metadata": {
    "id": "tQkWblsPA_No",
    "outputId": "590ad6b1-1d25-42f1-9817-5757758bed71"
   },
   "outputs": [
    {
     "name": "stdout",
     "output_type": "stream",
     "text": [
      "Collecting anonymizedf\n",
      "  Obtaining dependency information for anonymizedf from https://files.pythonhosted.org/packages/d1/1f/54b8001c141b23e4fdb28769c9bf131ad7e94a2455e178bcc99a68ec695e/anonymizedf-1.0.1-py3-none-any.whl.metadata\n",
      "  Downloading anonymizedf-1.0.1-py3-none-any.whl.metadata (5.7 kB)\n",
      "Requirement already satisfied: pandas in f:\\anaconda\\lib\\site-packages (from anonymizedf) (2.0.3)\n",
      "Requirement already satisfied: faker in f:\\anaconda\\lib\\site-packages (from anonymizedf) (25.1.0)\n",
      "Requirement already satisfied: python-dateutil>=2.4 in f:\\anaconda\\lib\\site-packages (from faker->anonymizedf) (2.8.2)\n",
      "Requirement already satisfied: pytz>=2020.1 in f:\\anaconda\\lib\\site-packages (from pandas->anonymizedf) (2023.3.post1)\n",
      "Requirement already satisfied: tzdata>=2022.1 in f:\\anaconda\\lib\\site-packages (from pandas->anonymizedf) (2023.3)\n",
      "Requirement already satisfied: numpy>=1.21.0 in f:\\anaconda\\lib\\site-packages (from pandas->anonymizedf) (1.24.3)\n",
      "Requirement already satisfied: six>=1.5 in f:\\anaconda\\lib\\site-packages (from python-dateutil>=2.4->faker->anonymizedf) (1.16.0)\n",
      "Downloading anonymizedf-1.0.1-py3-none-any.whl (7.0 kB)\n",
      "Installing collected packages: anonymizedf\n",
      "Successfully installed anonymizedf-1.0.1\n"
     ]
    }
   ],
   "source": [
    "!pip install anonymizedf"
   ]
  },
  {
   "cell_type": "code",
   "execution_count": null,
   "metadata": {
    "id": "Ay5n-hfRA_No",
    "outputId": "eb265800-38aa-4060-fb8d-0f17e38b0d81"
   },
   "outputs": [
    {
     "data": {
      "text/html": [
       "<div>\n",
       "<style scoped>\n",
       "    .dataframe tbody tr th:only-of-type {\n",
       "        vertical-align: middle;\n",
       "    }\n",
       "\n",
       "    .dataframe tbody tr th {\n",
       "        vertical-align: top;\n",
       "    }\n",
       "\n",
       "    .dataframe thead th {\n",
       "        text-align: right;\n",
       "    }\n",
       "</style>\n",
       "<table border=\"1\" class=\"dataframe\">\n",
       "  <thead>\n",
       "    <tr style=\"text-align: right;\">\n",
       "      <th></th>\n",
       "      <th>gender</th>\n",
       "      <th>race/ethnicity</th>\n",
       "      <th>parental level of education</th>\n",
       "      <th>lunch</th>\n",
       "      <th>test preparation course</th>\n",
       "      <th>math score</th>\n",
       "      <th>reading score</th>\n",
       "      <th>writing score</th>\n",
       "      <th>Fake_gender</th>\n",
       "      <th>Fake_race/ethnicity</th>\n",
       "      <th>Fake_parental level of education</th>\n",
       "      <th>Fake_lunch</th>\n",
       "      <th>Fake_test preparation course</th>\n",
       "      <th>Fake_math score</th>\n",
       "      <th>Fake_reading score</th>\n",
       "      <th>Fake_writing score</th>\n",
       "    </tr>\n",
       "  </thead>\n",
       "  <tbody>\n",
       "    <tr>\n",
       "      <th>0</th>\n",
       "      <td>0hNfsD4EsR</td>\n",
       "      <td>hvbXe3WJ27</td>\n",
       "      <td>Xbq5GK1M8r</td>\n",
       "      <td>hjEP1UGZxD</td>\n",
       "      <td>qbsMzLCXXF</td>\n",
       "      <td>72</td>\n",
       "      <td>72</td>\n",
       "      <td>74</td>\n",
       "      <td>gender 1</td>\n",
       "      <td>race/ethnicity 1</td>\n",
       "      <td>parental level of education 1</td>\n",
       "      <td>lunch 1</td>\n",
       "      <td>test preparation course 1</td>\n",
       "      <td>74</td>\n",
       "      <td>30</td>\n",
       "      <td>12</td>\n",
       "    </tr>\n",
       "    <tr>\n",
       "      <th>1</th>\n",
       "      <td>AKXIBakA5L</td>\n",
       "      <td>FGv6mnOkHX</td>\n",
       "      <td>Y8JLR6YDCZ</td>\n",
       "      <td>f0oWQEdqZ8</td>\n",
       "      <td>utgGryEyPB</td>\n",
       "      <td>69</td>\n",
       "      <td>90</td>\n",
       "      <td>88</td>\n",
       "      <td>gender 2</td>\n",
       "      <td>race/ethnicity 2</td>\n",
       "      <td>parental level of education 2</td>\n",
       "      <td>lunch 2</td>\n",
       "      <td>test preparation course 2</td>\n",
       "      <td>21</td>\n",
       "      <td>89</td>\n",
       "      <td>55</td>\n",
       "    </tr>\n",
       "    <tr>\n",
       "      <th>2</th>\n",
       "      <td>foU8iJ7Gec</td>\n",
       "      <td>znN3bVFbnm</td>\n",
       "      <td>Ic2yfaEnDv</td>\n",
       "      <td>GX9Fy6EaYI</td>\n",
       "      <td>dome80jtki</td>\n",
       "      <td>90</td>\n",
       "      <td>95</td>\n",
       "      <td>93</td>\n",
       "      <td>gender 3</td>\n",
       "      <td>race/ethnicity 3</td>\n",
       "      <td>parental level of education 3</td>\n",
       "      <td>lunch 3</td>\n",
       "      <td>test preparation course 3</td>\n",
       "      <td>71</td>\n",
       "      <td>97</td>\n",
       "      <td>31</td>\n",
       "    </tr>\n",
       "    <tr>\n",
       "      <th>3</th>\n",
       "      <td>utkbebEZ05</td>\n",
       "      <td>OQAyqjkkNk</td>\n",
       "      <td>eU69wivD9P</td>\n",
       "      <td>2YdgWJYpCr</td>\n",
       "      <td>lfCrGaYrrQ</td>\n",
       "      <td>47</td>\n",
       "      <td>57</td>\n",
       "      <td>44</td>\n",
       "      <td>gender 4</td>\n",
       "      <td>race/ethnicity 4</td>\n",
       "      <td>parental level of education 4</td>\n",
       "      <td>lunch 4</td>\n",
       "      <td>test preparation course 4</td>\n",
       "      <td>16</td>\n",
       "      <td>59</td>\n",
       "      <td>52</td>\n",
       "    </tr>\n",
       "    <tr>\n",
       "      <th>4</th>\n",
       "      <td>o0fTZmehC0</td>\n",
       "      <td>d7rdn7PRm0</td>\n",
       "      <td>3VYoWIR6tO</td>\n",
       "      <td>8GRcl4Lnv8</td>\n",
       "      <td>S2COWYkwrN</td>\n",
       "      <td>76</td>\n",
       "      <td>78</td>\n",
       "      <td>75</td>\n",
       "      <td>gender 5</td>\n",
       "      <td>race/ethnicity 5</td>\n",
       "      <td>parental level of education 5</td>\n",
       "      <td>lunch 5</td>\n",
       "      <td>test preparation course 5</td>\n",
       "      <td>37</td>\n",
       "      <td>47</td>\n",
       "      <td>28</td>\n",
       "    </tr>\n",
       "    <tr>\n",
       "      <th>...</th>\n",
       "      <td>...</td>\n",
       "      <td>...</td>\n",
       "      <td>...</td>\n",
       "      <td>...</td>\n",
       "      <td>...</td>\n",
       "      <td>...</td>\n",
       "      <td>...</td>\n",
       "      <td>...</td>\n",
       "      <td>...</td>\n",
       "      <td>...</td>\n",
       "      <td>...</td>\n",
       "      <td>...</td>\n",
       "      <td>...</td>\n",
       "      <td>...</td>\n",
       "      <td>...</td>\n",
       "      <td>...</td>\n",
       "    </tr>\n",
       "    <tr>\n",
       "      <th>995</th>\n",
       "      <td>JbQ913mWAg</td>\n",
       "      <td>RtOTema0AC</td>\n",
       "      <td>UFLrTnh9Mr</td>\n",
       "      <td>npkt34wEBp</td>\n",
       "      <td>qLrGeyNpb0</td>\n",
       "      <td>88</td>\n",
       "      <td>99</td>\n",
       "      <td>95</td>\n",
       "      <td>gender 993</td>\n",
       "      <td>race/ethnicity 993</td>\n",
       "      <td>parental level of education 993</td>\n",
       "      <td>lunch 993</td>\n",
       "      <td>test preparation course 993</td>\n",
       "      <td>13</td>\n",
       "      <td>70</td>\n",
       "      <td>20</td>\n",
       "    </tr>\n",
       "    <tr>\n",
       "      <th>996</th>\n",
       "      <td>x2dtQXL0Ca</td>\n",
       "      <td>SkSVV3njLv</td>\n",
       "      <td>FJDu2etBCA</td>\n",
       "      <td>YFtXa0m1tC</td>\n",
       "      <td>SyD3UvAqWR</td>\n",
       "      <td>62</td>\n",
       "      <td>55</td>\n",
       "      <td>55</td>\n",
       "      <td>gender 994</td>\n",
       "      <td>race/ethnicity 994</td>\n",
       "      <td>parental level of education 994</td>\n",
       "      <td>lunch 994</td>\n",
       "      <td>test preparation course 994</td>\n",
       "      <td>99</td>\n",
       "      <td>52</td>\n",
       "      <td>73</td>\n",
       "    </tr>\n",
       "    <tr>\n",
       "      <th>997</th>\n",
       "      <td>cB671FZlzJ</td>\n",
       "      <td>6jLCWF6qJ5</td>\n",
       "      <td>ZKFO2CMB3u</td>\n",
       "      <td>2rygaPCkLJ</td>\n",
       "      <td>sRcrk0GGPi</td>\n",
       "      <td>59</td>\n",
       "      <td>71</td>\n",
       "      <td>65</td>\n",
       "      <td>gender 995</td>\n",
       "      <td>race/ethnicity 995</td>\n",
       "      <td>parental level of education 995</td>\n",
       "      <td>lunch 995</td>\n",
       "      <td>test preparation course 995</td>\n",
       "      <td>35</td>\n",
       "      <td>39</td>\n",
       "      <td>91</td>\n",
       "    </tr>\n",
       "    <tr>\n",
       "      <th>998</th>\n",
       "      <td>Zb9viiTclf</td>\n",
       "      <td>2qmjAegsAq</td>\n",
       "      <td>M6W6Ykcscj</td>\n",
       "      <td>tqj8Yrtswf</td>\n",
       "      <td>olMRSBRHqB</td>\n",
       "      <td>68</td>\n",
       "      <td>78</td>\n",
       "      <td>77</td>\n",
       "      <td>gender 996</td>\n",
       "      <td>race/ethnicity 996</td>\n",
       "      <td>parental level of education 996</td>\n",
       "      <td>lunch 996</td>\n",
       "      <td>test preparation course 996</td>\n",
       "      <td>64</td>\n",
       "      <td>47</td>\n",
       "      <td>13</td>\n",
       "    </tr>\n",
       "    <tr>\n",
       "      <th>999</th>\n",
       "      <td>dMndyBQkyt</td>\n",
       "      <td>W2Jijf0GU7</td>\n",
       "      <td>KlHoAOBD2a</td>\n",
       "      <td>fVO7mHMQWN</td>\n",
       "      <td>j7YDLafttL</td>\n",
       "      <td>77</td>\n",
       "      <td>86</td>\n",
       "      <td>86</td>\n",
       "      <td>gender 997</td>\n",
       "      <td>race/ethnicity 997</td>\n",
       "      <td>parental level of education 997</td>\n",
       "      <td>lunch 997</td>\n",
       "      <td>test preparation course 997</td>\n",
       "      <td>85</td>\n",
       "      <td>22</td>\n",
       "      <td>14</td>\n",
       "    </tr>\n",
       "  </tbody>\n",
       "</table>\n",
       "<p>997 rows × 16 columns</p>\n",
       "</div>"
      ],
      "text/plain": [
       "         gender race/ethnicity parental level of education       lunch  \\\n",
       "0    0hNfsD4EsR     hvbXe3WJ27                  Xbq5GK1M8r  hjEP1UGZxD   \n",
       "1    AKXIBakA5L     FGv6mnOkHX                  Y8JLR6YDCZ  f0oWQEdqZ8   \n",
       "2    foU8iJ7Gec     znN3bVFbnm                  Ic2yfaEnDv  GX9Fy6EaYI   \n",
       "3    utkbebEZ05     OQAyqjkkNk                  eU69wivD9P  2YdgWJYpCr   \n",
       "4    o0fTZmehC0     d7rdn7PRm0                  3VYoWIR6tO  8GRcl4Lnv8   \n",
       "..          ...            ...                         ...         ...   \n",
       "995  JbQ913mWAg     RtOTema0AC                  UFLrTnh9Mr  npkt34wEBp   \n",
       "996  x2dtQXL0Ca     SkSVV3njLv                  FJDu2etBCA  YFtXa0m1tC   \n",
       "997  cB671FZlzJ     6jLCWF6qJ5                  ZKFO2CMB3u  2rygaPCkLJ   \n",
       "998  Zb9viiTclf     2qmjAegsAq                  M6W6Ykcscj  tqj8Yrtswf   \n",
       "999  dMndyBQkyt     W2Jijf0GU7                  KlHoAOBD2a  fVO7mHMQWN   \n",
       "\n",
       "    test preparation course  math score  reading score  writing score  \\\n",
       "0                qbsMzLCXXF          72             72             74   \n",
       "1                utgGryEyPB          69             90             88   \n",
       "2                dome80jtki          90             95             93   \n",
       "3                lfCrGaYrrQ          47             57             44   \n",
       "4                S2COWYkwrN          76             78             75   \n",
       "..                      ...         ...            ...            ...   \n",
       "995              qLrGeyNpb0          88             99             95   \n",
       "996              SyD3UvAqWR          62             55             55   \n",
       "997              sRcrk0GGPi          59             71             65   \n",
       "998              olMRSBRHqB          68             78             77   \n",
       "999              j7YDLafttL          77             86             86   \n",
       "\n",
       "    Fake_gender Fake_race/ethnicity Fake_parental level of education  \\\n",
       "0      gender 1    race/ethnicity 1    parental level of education 1   \n",
       "1      gender 2    race/ethnicity 2    parental level of education 2   \n",
       "2      gender 3    race/ethnicity 3    parental level of education 3   \n",
       "3      gender 4    race/ethnicity 4    parental level of education 4   \n",
       "4      gender 5    race/ethnicity 5    parental level of education 5   \n",
       "..          ...                 ...                              ...   \n",
       "995  gender 993  race/ethnicity 993  parental level of education 993   \n",
       "996  gender 994  race/ethnicity 994  parental level of education 994   \n",
       "997  gender 995  race/ethnicity 995  parental level of education 995   \n",
       "998  gender 996  race/ethnicity 996  parental level of education 996   \n",
       "999  gender 997  race/ethnicity 997  parental level of education 997   \n",
       "\n",
       "    Fake_lunch Fake_test preparation course  Fake_math score  \\\n",
       "0      lunch 1    test preparation course 1               74   \n",
       "1      lunch 2    test preparation course 2               21   \n",
       "2      lunch 3    test preparation course 3               71   \n",
       "3      lunch 4    test preparation course 4               16   \n",
       "4      lunch 5    test preparation course 5               37   \n",
       "..         ...                          ...              ...   \n",
       "995  lunch 993  test preparation course 993               13   \n",
       "996  lunch 994  test preparation course 994               99   \n",
       "997  lunch 995  test preparation course 995               35   \n",
       "998  lunch 996  test preparation course 996               64   \n",
       "999  lunch 997  test preparation course 997               85   \n",
       "\n",
       "     Fake_reading score  Fake_writing score  \n",
       "0                    30                  12  \n",
       "1                    89                  55  \n",
       "2                    97                  31  \n",
       "3                    59                  52  \n",
       "4                    47                  28  \n",
       "..                  ...                 ...  \n",
       "995                  70                  20  \n",
       "996                  52                  73  \n",
       "997                  39                  91  \n",
       "998                  47                  13  \n",
       "999                  22                  14  \n",
       "\n",
       "[997 rows x 16 columns]"
      ]
     },
     "execution_count": 66,
     "metadata": {},
     "output_type": "execute_result"
    }
   ],
   "source": [
    "from anonymizedf.anonymizedf import anonymize\n",
    "\n",
    "\n",
    "\n",
    "faked_df = df\n",
    "\n",
    "\n",
    "\n",
    "\n",
    "\n",
    "an = anonymize(faked_df)\n",
    "\n",
    "\n",
    "\n",
    "\n",
    "\n",
    "\n",
    "\n",
    "column_list = ['gender', 'race/ethnicity', 'parental level of education', 'lunch',\n",
    "\n",
    "       'test preparation course', 'math score', 'reading score',  'writing score']\n",
    "\n",
    "\n",
    "\n",
    "\n",
    "\n",
    "for column in column_list:\n",
    "\n",
    "    if df[column].dtype == 'O':\n",
    "\n",
    "        an.fake_categories(column)\n",
    "\n",
    "    else:\n",
    "\n",
    "        an.fake_whole_numbers(column)\n",
    "\n",
    "\n",
    "\n",
    "\n",
    "\n",
    "\n",
    "\n",
    "faked_df"
   ]
  },
  {
   "cell_type": "code",
   "execution_count": null,
   "metadata": {
    "id": "BQI7Z73GA_No"
   },
   "outputs": [],
   "source": [
    "df.to_csv('DSAI_202_Final_Project_data.csv', index=False)"
   ]
  }
 ],
 "metadata": {
  "colab": {
   "provenance": []
  },
  "kernelspec": {
   "display_name": "stud",
   "language": "python",
   "name": "python3"
  },
  "language_info": {
   "codemirror_mode": {
    "name": "ipython",
    "version": 3
   },
   "file_extension": ".py",
   "mimetype": "text/x-python",
   "name": "python",
   "nbconvert_exporter": "python",
   "pygments_lexer": "ipython3",
   "version": "3.8.20"
  }
 },
 "nbformat": 4,
 "nbformat_minor": 4
}
